{
 "cells": [
  {
   "cell_type": "code",
   "execution_count": 2,
   "metadata": {},
   "outputs": [],
   "source": [
    "# Vector DB인 Milvus와 관련된 모듈들은 모듈의 용도를 명확히 구분하기 위해 Vector DB 구축 단계에서 불러왔으며 해당 부분에서 코드를 확인하실 수 있습니다.\n",
    "import json\n",
    "import os\n",
    "import subprocess\n",
    "from langchain_community.document_loaders import UnstructuredHTMLLoader\n",
    "from pathlib import Path\n",
    "import base64\n",
    "import http.client\n",
    "from tqdm import tqdm\n",
    "import requests"
   ]
  },
  {
   "cell_type": "markdown",
   "metadata": {},
   "source": [
    "# Raw Data -> Connecting"
   ]
  },
  {
   "cell_type": "markdown",
   "metadata": {},
   "source": [
    "### LangChain 활용 HTML 로딩"
   ]
  },
  {
   "cell_type": "code",
   "execution_count": 44,
   "metadata": {},
   "outputs": [
    {
     "name": "stdout",
     "output_type": "stream",
     "text": [
      "Processed /Users/geesuee/jinjihan/bside_jupyter/PROGRAME/POTENDAY/2409_FAQ 응답 챗봇/2_RAG/02_potenday/potendayguide/NAVER Cloud Platform 가이드 e155fa2498a64cb39013831f05732949.html\n",
      "Processed /Users/geesuee/jinjihan/bside_jupyter/PROGRAME/POTENDAY/2409_FAQ 응답 챗봇/2_RAG/02_potenday/potendayguide/포텐데이 산출물 f6471747a4a04facbaa30752bc3bbb81.html\n",
      "Processed /Users/geesuee/jinjihan/bside_jupyter/PROGRAME/POTENDAY/2409_FAQ 응답 챗봇/2_RAG/02_potenday/potendayguide/🤖 [체크인] 박수많이 6👏 (낮 12시, 1회) 3e2ff65a4dc54459a1fbf859da38b07a.html\n",
      "Processed /Users/geesuee/jinjihan/bside_jupyter/PROGRAME/POTENDAY/2409_FAQ 응답 챗봇/2_RAG/02_potenday/potendayguide/2단계 크레딧 5c0bf250f5c64ba1ba0d1ac74b89355e.html\n",
      "Processed /Users/geesuee/jinjihan/bside_jupyter/PROGRAME/POTENDAY/2409_FAQ 응답 챗봇/2_RAG/02_potenday/potendayguide/🤖 [체크인] 박수많이 1👏 (낮 12시, 1회) abc1c213f929453ea7d661ebd3738b28.html\n",
      "Processed /Users/geesuee/jinjihan/bside_jupyter/PROGRAME/POTENDAY/2409_FAQ 응답 챗봇/2_RAG/02_potenday/potendayguide/생각한 아이템이 있는데, 내 아이템으로 팀 ᄇ 29ae21369a8b4e0289b3f2fa123d57a5.html\n",
      "Processed /Users/geesuee/jinjihan/bside_jupyter/PROGRAME/POTENDAY/2409_FAQ 응답 챗봇/2_RAG/02_potenday/potendayguide/참가 신청 후에는 어떻게 되나요 3648e44ee44c432d83c4947937a9c15c.html\n",
      "Processed /Users/geesuee/jinjihan/bside_jupyter/PROGRAME/POTENDAY/2409_FAQ 응답 챗봇/2_RAG/02_potenday/potendayguide/10일 동안 그냥 각자 알아서 하면 되나요 e1873ca0027d469bab91a3d5f0368f14.html\n",
      "Processed /Users/geesuee/jinjihan/bside_jupyter/PROGRAME/POTENDAY/2409_FAQ 응답 챗봇/2_RAG/02_potenday/potendayguide/DAY 4 - 기획완료 디자인&개발진행 d6aa7e119b594428bb4aee9889b1dd60.html\n",
      "Processed /Users/geesuee/jinjihan/bside_jupyter/PROGRAME/POTENDAY/2409_FAQ 응답 챗봇/2_RAG/02_potenday/potendayguide/상금은 얼마인가요 8374b6ec93bb4aa6ad535a3d089dd225.html\n",
      "Processed /Users/geesuee/jinjihan/bside_jupyter/PROGRAME/POTENDAY/2409_FAQ 응답 챗봇/2_RAG/02_potenday/potendayguide/포텐데이 체크인 71ba85b21a0747d99353e7f3f3e60ca7.html\n",
      "Processed /Users/geesuee/jinjihan/bside_jupyter/PROGRAME/POTENDAY/2409_FAQ 응답 챗봇/2_RAG/02_potenday/potendayguide/프로토타입은 어디까지 구현되어야 하나요 eff1e32e3c4f41f98e2a5321e05be688.html\n",
      "Processed /Users/geesuee/jinjihan/bside_jupyter/PROGRAME/POTENDAY/2409_FAQ 응답 챗봇/2_RAG/02_potenday/potendayguide/다른 팀 진행상황도 알 수 있나요 e79526fc78f349d1baa566299eada9ca.html\n",
      "Processed /Users/geesuee/jinjihan/bside_jupyter/PROGRAME/POTENDAY/2409_FAQ 응답 챗봇/2_RAG/02_potenday/potendayguide/프로젝트 하차 신청은 어떻게 하나요 25a821809506497ab81c241b43f4f082.html\n",
      "Processed /Users/geesuee/jinjihan/bside_jupyter/PROGRAME/POTENDAY/2409_FAQ 응답 챗봇/2_RAG/02_potenday/potendayguide/🤖 [체크인] 생존&투입시간 산출물 5❤️‍🔥 (밤 38d4955475684b7ebc556b6ec9163cd1.html\n",
      "Processed /Users/geesuee/jinjihan/bside_jupyter/PROGRAME/POTENDAY/2409_FAQ 응답 챗봇/2_RAG/02_potenday/potendayguide/📍[중간산출물] 우리 팀 서비스 간략 소개 39f1ffecee604f0491a0c952bdda56fb.html\n",
      "Processed /Users/geesuee/jinjihan/bside_jupyter/PROGRAME/POTENDAY/2409_FAQ 응답 챗봇/2_RAG/02_potenday/potendayguide/🤖 [체크인] 생존&투입시간 산출물 4❤️‍🔥 (밤 9aaa0bc8e8284746b8324414257cf35b.html\n",
      "Processed /Users/geesuee/jinjihan/bside_jupyter/PROGRAME/POTENDAY/2409_FAQ 응답 챗봇/2_RAG/02_potenday/potendayguide/[팀 빌딩] 다크호스 합류 2e437c1d866e4ef2869cd1eec6ae4b7f.html\n",
      "Processed /Users/geesuee/jinjihan/bside_jupyter/PROGRAME/POTENDAY/2409_FAQ 응답 챗봇/2_RAG/02_potenday/potendayguide/10일 동안 뭘 만들어야 하나요 403b469ac5424b13ad8fa40733ef4619.html\n",
      "Processed /Users/geesuee/jinjihan/bside_jupyter/PROGRAME/POTENDAY/2409_FAQ 응답 챗봇/2_RAG/02_potenday/potendayguide/🎁 [상금] 지급 976609486df94cdca9dde4048af8c1e3.html\n",
      "Processed /Users/geesuee/jinjihan/bside_jupyter/PROGRAME/POTENDAY/2409_FAQ 응답 챗봇/2_RAG/02_potenday/potendayguide/비사이드 진행한 프로젝트 c5fc1c81c5b645fa875259d74fa84154.html\n",
      "Processed /Users/geesuee/jinjihan/bside_jupyter/PROGRAME/POTENDAY/2409_FAQ 응답 챗봇/2_RAG/02_potenday/potendayguide/🤖 [체크인] 박수많이 9👏 (낮 12시, 1회) 8f9cc34931d446a6b64ea4dbe46ebaec.html\n",
      "Processed /Users/geesuee/jinjihan/bside_jupyter/PROGRAME/POTENDAY/2409_FAQ 응답 챗봇/2_RAG/02_potenday/potendayguide/환불 규정은 어떻게 되나요 e94ed1262915474891835c7dfffc8aff.html\n",
      "Processed /Users/geesuee/jinjihan/bside_jupyter/PROGRAME/POTENDAY/2409_FAQ 응답 챗봇/2_RAG/02_potenday/potendayguide/한 팀은 몇 명으로 구성되나요 28398b2fa49b43e59adaee33005c00f8.html\n",
      "Processed /Users/geesuee/jinjihan/bside_jupyter/PROGRAME/POTENDAY/2409_FAQ 응답 챗봇/2_RAG/02_potenday/potendayguide/참여 인증과 최종 산출물을 내지 않으면 어 a16c9a60b8744f49b8cdf961df518063.html\n",
      "Processed /Users/geesuee/jinjihan/bside_jupyter/PROGRAME/POTENDAY/2409_FAQ 응답 챗봇/2_RAG/02_potenday/potendayguide/투표 대상은 어떻게 되나요 10313082ad9c4e59b723eef05bc23e77.html\n",
      "Processed /Users/geesuee/jinjihan/bside_jupyter/PROGRAME/POTENDAY/2409_FAQ 응답 챗봇/2_RAG/02_potenday/potendayguide/1단계 크레딧 b591f2ce65de41519cc8976ac5f91c06.html\n",
      "Processed /Users/geesuee/jinjihan/bside_jupyter/PROGRAME/POTENDAY/2409_FAQ 응답 챗봇/2_RAG/02_potenday/potendayguide/🤖 [체크인] 박수많이 8👏 (낮 12시, 1회) 629934441023484296169497b21659a4.html\n",
      "Processed /Users/geesuee/jinjihan/bside_jupyter/PROGRAME/POTENDAY/2409_FAQ 응답 챗봇/2_RAG/02_potenday/potendayguide/참가신청 자격이 있나요 0ea5a1c4ad1e4cd7a8553c15152bec38.html\n",
      "Processed /Users/geesuee/jinjihan/bside_jupyter/PROGRAME/POTENDAY/2409_FAQ 응답 챗봇/2_RAG/02_potenday/potendayguide/비사이드 X 네이버 클라우드 플랫폼 e884b04cad38442f91eb1e70aee6c868.html\n",
      "Processed /Users/geesuee/jinjihan/bside_jupyter/PROGRAME/POTENDAY/2409_FAQ 응답 챗봇/2_RAG/02_potenday/potendayguide/주요 일정 14b3c0a39c05463d9032879cc432f074.html\n",
      "Processed /Users/geesuee/jinjihan/bside_jupyter/PROGRAME/POTENDAY/2409_FAQ 응답 챗봇/2_RAG/02_potenday/potendayguide/DAY 5 - 중간 산출물 & 개발 9218d0d7f37a4066a62453dc6ee73970.html\n",
      "Processed /Users/geesuee/jinjihan/bside_jupyter/PROGRAME/POTENDAY/2409_FAQ 응답 챗봇/2_RAG/02_potenday/potendayguide/제출해야 하는 산출물이 무엇인가요 b3c8ad45929d4eeebabe4adffa7ceebe.html\n",
      "Processed /Users/geesuee/jinjihan/bside_jupyter/PROGRAME/POTENDAY/2409_FAQ 응답 챗봇/2_RAG/02_potenday/potendayguide/DAY 9 - 개발 진행 ff9a64b989b24ceebb95eef23c515ebb.html\n",
      "Processed /Users/geesuee/jinjihan/bside_jupyter/PROGRAME/POTENDAY/2409_FAQ 응답 챗봇/2_RAG/02_potenday/potendayguide/🤖 [체크인] 박수많이 4👏 (낮 12시, 1회) d40cd5e7581a4399a5e52aa12696c1c5.html\n",
      "Processed /Users/geesuee/jinjihan/bside_jupyter/PROGRAME/POTENDAY/2409_FAQ 응답 챗봇/2_RAG/02_potenday/potendayguide/커리어 카드는 왜 작성하는 건가요 1447a34791224469a8669cfde4a36f29.html\n",
      "Processed /Users/geesuee/jinjihan/bside_jupyter/PROGRAME/POTENDAY/2409_FAQ 응답 챗봇/2_RAG/02_potenday/potendayguide/DAY 1 (오전 10시) - 포텐데이 시작 42bcd52d62ba4a5481e3a7de556f6755.html\n",
      "Processed /Users/geesuee/jinjihan/bside_jupyter/PROGRAME/POTENDAY/2409_FAQ 응답 챗봇/2_RAG/02_potenday/potendayguide/신청만 하면 100% 참가 가능한가요 1ac163e0edff4de088b3ac0367d9accc.html\n",
      "Processed /Users/geesuee/jinjihan/bside_jupyter/PROGRAME/POTENDAY/2409_FAQ 응답 챗봇/2_RAG/02_potenday/potendayguide/🤖 [체크인] 생존&투입시간 산출물 7❤️‍🔥 (밤 35fdce30a81c4e22a3fb09f30abac797.html\n",
      "Processed /Users/geesuee/jinjihan/bside_jupyter/PROGRAME/POTENDAY/2409_FAQ 응답 챗봇/2_RAG/02_potenday/potendayguide/DAY 2 - 아이템 논의 af7d8145a47f43b8ae5a45eb9d0d19a2.html\n",
      "Processed /Users/geesuee/jinjihan/bside_jupyter/PROGRAME/POTENDAY/2409_FAQ 응답 챗봇/2_RAG/02_potenday/potendayguide/비사이드 팀 빌딩 결과 발표 후에 어떻게 하죠 4709243663ce45748a3ea0b46cf6e69e.html\n",
      "Processed /Users/geesuee/jinjihan/bside_jupyter/PROGRAME/POTENDAY/2409_FAQ 응답 챗봇/2_RAG/02_potenday/potendayguide/🤖 [체크인] 박수많이 5👏 (낮 12시, 1회) 48e1fb9a0521420c860795bdb5c43af2.html\n",
      "Processed /Users/geesuee/jinjihan/bside_jupyter/PROGRAME/POTENDAY/2409_FAQ 응답 챗봇/2_RAG/02_potenday/potendayguide/🤖 [체크인] 박수많이 2👏 (낮 12시, 1회) 14e198153d324ac0be9fde33106326d8.html\n",
      "Processed /Users/geesuee/jinjihan/bside_jupyter/PROGRAME/POTENDAY/2409_FAQ 응답 챗봇/2_RAG/02_potenday/potendayguide/팀 빌딩은 어떻게 하나요 de3ef686dc30461fb34d6a714c0fe73a.html\n",
      "Processed /Users/geesuee/jinjihan/bside_jupyter/PROGRAME/POTENDAY/2409_FAQ 응답 챗봇/2_RAG/02_potenday/potendayguide/🤖 [체크인] 생존&투입시간 산출물 8❤️‍🔥 (밤 071877bcf0d8423eb672bc008fb9a865.html\n",
      "Processed /Users/geesuee/jinjihan/bside_jupyter/PROGRAME/POTENDAY/2409_FAQ 응답 챗봇/2_RAG/02_potenday/potendayguide/포텐데이 팀 빌딩, 세가지 방법 c6ce4a7bf6744731bbdd72009948465e.html\n",
      "Processed /Users/geesuee/jinjihan/bside_jupyter/PROGRAME/POTENDAY/2409_FAQ 응답 챗봇/2_RAG/02_potenday/potendayguide/프로젝트 중간에 팀원이 나타나지 않으면 어떠 60d35fbef1ac4a6abe8091cf7b14320a.html\n",
      "Processed /Users/geesuee/jinjihan/bside_jupyter/PROGRAME/POTENDAY/2409_FAQ 응답 챗봇/2_RAG/02_potenday/potendayguide/최종 산출물 - DAY 10 1fd10798a4d3418aa3a6c22832ff4868.html\n",
      "Processed /Users/geesuee/jinjihan/bside_jupyter/PROGRAME/POTENDAY/2409_FAQ 응답 챗봇/2_RAG/02_potenday/potendayguide/🤖 [체크인] ⌛타임아웃 (오후 3시, 1회) d7ef640874a149ddba2d089a40227884.html\n",
      "Processed /Users/geesuee/jinjihan/bside_jupyter/PROGRAME/POTENDAY/2409_FAQ 응답 챗봇/2_RAG/02_potenday/potendayguide/🤖 [체크인] 박수많이 3👏 (낮 12시, 1회) 14558a86749845d1b683c8e9d5d2ecb8.html\n",
      "Processed /Users/geesuee/jinjihan/bside_jupyter/PROGRAME/POTENDAY/2409_FAQ 응답 챗봇/2_RAG/02_potenday/potendayguide/포텐데이 시작 전🅾️후✅ 할 일 312ad0dc3c5c4ab4a46b33f882931818.html\n",
      "Processed /Users/geesuee/jinjihan/bside_jupyter/PROGRAME/POTENDAY/2409_FAQ 응답 챗봇/2_RAG/02_potenday/potendayguide/프로젝트는 온라인으로만 진행되나요 bf716fc3d19e42a0b1d0b7301f37726a.html\n",
      "Processed /Users/geesuee/jinjihan/bside_jupyter/PROGRAME/POTENDAY/2409_FAQ 응답 챗봇/2_RAG/02_potenday/potendayguide/DAY 3 - 기획 디자인 핵심 컨셉 4661110f13fe40259f44888ece670b8f.html\n",
      "Processed /Users/geesuee/jinjihan/bside_jupyter/PROGRAME/POTENDAY/2409_FAQ 응답 챗봇/2_RAG/02_potenday/potendayguide/DAY 7 - 개발 진행 2d47a7abd59f40f885d962c50e8f9942.html\n",
      "Processed /Users/geesuee/jinjihan/bside_jupyter/PROGRAME/POTENDAY/2409_FAQ 응답 챗봇/2_RAG/02_potenday/potendayguide/[팀 빌딩] 직접 팀 빌딩 36f9bd59b43e447c907eabc83aafe4eb.html\n",
      "Processed /Users/geesuee/jinjihan/bside_jupyter/PROGRAME/POTENDAY/2409_FAQ 응답 챗봇/2_RAG/02_potenday/potendayguide/이전 포텐데이 팀 멤버들과 다음 포텐데이도 ᄒ 3babd4f1655f477585772eedbb0139b4.html\n",
      "Processed /Users/geesuee/jinjihan/bside_jupyter/PROGRAME/POTENDAY/2409_FAQ 응답 챗봇/2_RAG/02_potenday/potendayguide/3단계 크레딧 28bcabc366854fb795c96e2ea45a387a.html\n",
      "Processed /Users/geesuee/jinjihan/bside_jupyter/PROGRAME/POTENDAY/2409_FAQ 응답 챗봇/2_RAG/02_potenday/potendayguide/시상 기준은 무엇인가요 84f2d16919fd4049b7c41761e8045b72.html\n",
      "Processed /Users/geesuee/jinjihan/bside_jupyter/PROGRAME/POTENDAY/2409_FAQ 응답 챗봇/2_RAG/02_potenday/potendayguide/[팀 빌딩] 비사이드 팀 빌딩 feb93fa39cdc439ab893a4b54b0307a7.html\n",
      "Processed /Users/geesuee/jinjihan/bside_jupyter/PROGRAME/POTENDAY/2409_FAQ 응답 챗봇/2_RAG/02_potenday/potendayguide/🥇 [발표] 1등 팀 & 최고 동료상 (낮 12시) ccbff6d08dc54e9ca9a7da3e4324289e.html\n",
      "Processed /Users/geesuee/jinjihan/bside_jupyter/PROGRAME/POTENDAY/2409_FAQ 응답 챗봇/2_RAG/02_potenday/potendayguide/슬랙은 어떻게 이용하나요 652faa4a2e2a4a389b15d06fe6fa859d.html\n",
      "Processed /Users/geesuee/jinjihan/bside_jupyter/PROGRAME/POTENDAY/2409_FAQ 응답 챗봇/2_RAG/02_potenday/potendayguide/🤖 [체크인] 생존&투입시간 산출물 9❤️‍🔥 (밤 3ea2bdb490a14d65899b20ff614a1ae5.html\n",
      "Processed /Users/geesuee/jinjihan/bside_jupyter/PROGRAME/POTENDAY/2409_FAQ 응답 챗봇/2_RAG/02_potenday/potendayguide/온라인만으로 프로젝트가 가능할까요 b8726b2d647a4b66b212017adb71d1bb.html\n",
      "Processed /Users/geesuee/jinjihan/bside_jupyter/PROGRAME/POTENDAY/2409_FAQ 응답 챗봇/2_RAG/02_potenday/potendayguide/🤖 [체크인] 생존&투입시간 산출물 6❤️‍🔥 (밤 cce339c5f85e4d529ac4e4453d0fbaf7.html\n",
      "Processed /Users/geesuee/jinjihan/bside_jupyter/PROGRAME/POTENDAY/2409_FAQ 응답 챗봇/2_RAG/02_potenday/potendayguide/🤖 [체크인] 생존&투입시간 산출물 1❤️‍🔥 (밤 2226f1f0eb0e4ad9a3dca5dd8dbfe9e8.html\n",
      "Processed /Users/geesuee/jinjihan/bside_jupyter/PROGRAME/POTENDAY/2409_FAQ 응답 챗봇/2_RAG/02_potenday/potendayguide/중간 산출물 - DAY 5 0fb4c660266d416690d8204041d8edc9.html\n",
      "Processed /Users/geesuee/jinjihan/bside_jupyter/PROGRAME/POTENDAY/2409_FAQ 응답 챗봇/2_RAG/02_potenday/potendayguide/서버 비용도 지원하나요 fb62a24198954402b5d8852b356abf6b.html\n",
      "Processed /Users/geesuee/jinjihan/bside_jupyter/PROGRAME/POTENDAY/2409_FAQ 응답 챗봇/2_RAG/02_potenday/potendayguide/🤖 [체크인] 박수많이 7👏 (낮 12시, 1회) 36b4e5b4acc340f193e04ab79b91b507.html\n",
      "Processed /Users/geesuee/jinjihan/bside_jupyter/PROGRAME/POTENDAY/2409_FAQ 응답 챗봇/2_RAG/02_potenday/potendayguide/DAY 6 - 디자인 1차 완료 360f910021994c2891c154b6706a4ff9.html\n",
      "Processed /Users/geesuee/jinjihan/bside_jupyter/PROGRAME/POTENDAY/2409_FAQ 응답 챗봇/2_RAG/02_potenday/potendayguide/매칭된 팀원이 나타나지 않으면 어떻게 하나요 8c55c52357894ee1aa97796981a65864.html\n",
      "Processed /Users/geesuee/jinjihan/bside_jupyter/PROGRAME/POTENDAY/2409_FAQ 응답 챗봇/2_RAG/02_potenday/potendayguide/🥊 [투표] 1등 팀 투표 (오후 7시~월요일 밤 10시 c4ecb5287dd44b99a49c33183f33b121.html\n",
      "Processed /Users/geesuee/jinjihan/bside_jupyter/PROGRAME/POTENDAY/2409_FAQ 응답 챗봇/2_RAG/02_potenday/potendayguide/🤖 [체크인] 생존&투입시간 산출물 3❤️‍🔥 (밤 da56aba4b54c4e658d77f8f2492d59a4.html\n",
      "Processed /Users/geesuee/jinjihan/bside_jupyter/PROGRAME/POTENDAY/2409_FAQ 응답 챗봇/2_RAG/02_potenday/potendayguide/DAY 10 - 최종 산출물 준비 1c3a3d347b774eb89dd24d8ce8cf210f.html\n",
      "Processed /Users/geesuee/jinjihan/bside_jupyter/PROGRAME/POTENDAY/2409_FAQ 응답 챗봇/2_RAG/02_potenday/potendayguide/DAY 8 - 개발 진행 211f16970a3a4c1d9ec6d1b689dfb357.html\n",
      "Processed /Users/geesuee/jinjihan/bside_jupyter/PROGRAME/POTENDAY/2409_FAQ 응답 챗봇/2_RAG/02_potenday/potendayguide/🤖 [체크인] 생존&투입시간 산출물 2❤️‍🔥 (밤 6a059fa860794da0a70ed392f74722ba.html\n",
      "Processed /Users/geesuee/jinjihan/bside_jupyter/PROGRAME/POTENDAY/2409_FAQ 응답 챗봇/2_RAG/02_potenday/potendayguide/📍[최종산출물] 서비스 소개, 프로토타입 (오후 3 d6feec3af4fa482fbce59ef9a8f4601a.html\n"
     ]
    }
   ],
   "source": [
    "html_files_dir = Path('/Users/geesuee/jinjihan/bside_jupyter/PROGRAME/POTENDAY/2409_FAQ 응답 챗봇/2_RAG/02_potenday/potendayguide')\n",
    " \n",
    "html_files = list(html_files_dir.glob(\"*.html\"))\n",
    " \n",
    "potendaydatas = []\n",
    " \n",
    "for html_file in html_files:\n",
    "    loader = UnstructuredHTMLLoader(str(html_file))\n",
    "    document_data = loader.load()\n",
    "    potendaydatas.append(document_data)\n",
    "    print(f\"Processed {html_file}\")"
   ]
  },
  {
   "cell_type": "code",
   "execution_count": 45,
   "metadata": {},
   "outputs": [],
   "source": [
    "# 이중 리스트를 풀어서 하나의 리스트로 만드는 작업\n",
    "potendaydatas_flattened = [item for sublist in potendaydatas for item in sublist]"
   ]
  },
  {
   "cell_type": "markdown",
   "metadata": {},
   "source": [
    "# Chunking\n",
    "- 문단 나누기"
   ]
  },
  {
   "cell_type": "code",
   "execution_count": 46,
   "metadata": {},
   "outputs": [
    {
     "name": "stderr",
     "output_type": "stream",
     "text": [
      "100%|██████████| 76/76 [00:14<00:00,  5.08it/s]"
     ]
    },
    {
     "name": "stdout",
     "output_type": "stream",
     "text": [
      "212\n"
     ]
    },
    {
     "name": "stderr",
     "output_type": "stream",
     "text": [
      "\n"
     ]
    }
   ],
   "source": [
    "class SegmentationExecutor:\n",
    "    def __init__(self, host, api_key, api_key_primary_val, request_id):\n",
    "        self._host = host\n",
    "        self._api_key = api_key\n",
    "        self._api_key_primary_val = api_key_primary_val\n",
    "        self._request_id = request_id\n",
    "\n",
    "    def _send_request(self, completion_request):\n",
    "        headers = {\n",
    "            'Content-Type': 'application/json; charset=utf-8',\n",
    "            'X-NCP-CLOVASTUDIO-API-KEY': self._api_key,\n",
    "            'X-NCP-APIGW-API-KEY': self._api_key_primary_val,\n",
    "            'X-NCP-CLOVASTUDIO-REQUEST-ID': self._request_id\n",
    "        }\n",
    "\n",
    "        conn = http.client.HTTPSConnection(self._host)\n",
    "        conn.request('POST', '/testapp/v1/api-tools/segmentation/73d7ecf6f64e4986aa1ea1b01359e726', json.dumps(completion_request), headers)\n",
    "        response = conn.getresponse()\n",
    "        result = json.loads(response.read().decode(encoding='utf-8'))\n",
    "        conn.close()\n",
    "        return result\n",
    "\n",
    "    def execute(self, completion_request):\n",
    "        res = self._send_request(completion_request)\n",
    "        if res['status']['code'] == '20000':\n",
    "            return res['result']['topicSeg']\n",
    "        else:\n",
    "            return 'Error'\n",
    "\n",
    "\n",
    "if __name__ == '__main__':\n",
    "    segmentation_executor = SegmentationExecutor(\n",
    "        host='clovastudio.apigw.ntruss.com',\n",
    "        api_key='NTA0MjU2MWZlZTcxNDJiY4qFDZAWlqFMzImmP0HcHEB5yfXVQ1u0DGKUuK5/Mz8w',\n",
    "        api_key_primary_val = 'OnBeBKQrOFqEElE96ackKhkzUfwOMkNbqV7bZU04',\n",
    "        request_id='f560ec50-1633-46d5-a8a2-9b1f1dbada5b'\n",
    "    )\n",
    "\n",
    "    chunked_html = []\n",
    "  \n",
    "    for htmldata in tqdm(potendaydatas_flattened):\n",
    "        try:\n",
    "            request_data = {\n",
    "                \"postProcessMaxSize\": 100,\n",
    "                \"alpha\": -100,\n",
    "                \"segCnt\": -1,\n",
    "                \"postProcessMinSize\": -1,\n",
    "                \"text\": htmldata.page_content,\n",
    "                \"postProcess\": True\n",
    "            }\n",
    "             \n",
    "            request_json_string = json.dumps(request_data)\n",
    "            request_data = json.loads(request_json_string, strict=False)\n",
    "            response_data = segmentation_executor.execute(request_data)\n",
    "            result_data = [' '.join(segment) for segment in response_data]\n",
    " \n",
    "        except json.JSONDecodeError as e:\n",
    "            print(f\"JSON decoding failed: {e}\")\n",
    "        except Exception as e:\n",
    "            print(f\"An error occurred: {e}\")\n",
    "         \n",
    "        for paragraph in result_data:\n",
    "            chunked_document = {\n",
    "                \"source\": htmldata.metadata[\"source\"],\n",
    "                \"text\": paragraph\n",
    "            }\n",
    "            chunked_html.append(chunked_document)\n",
    "  \n",
    "print(len(chunked_html))"
   ]
  },
  {
   "cell_type": "markdown",
   "metadata": {},
   "source": [
    "# Embedding\n",
    "- 벡터화"
   ]
  },
  {
   "cell_type": "code",
   "execution_count": 47,
   "metadata": {},
   "outputs": [
    {
     "name": "stderr",
     "output_type": "stream",
     "text": [
      " 30%|███       | 64/212 [00:15<00:21,  6.81it/s]"
     ]
    },
    {
     "name": "stdout",
     "output_type": "stream",
     "text": [
      "Embedding API Error. 오류 발생: 42901: Too many requests - rate exceeded\n",
      "Embedding API Error. 오류 발생: 42901: Too many requests - rate exceeded\n",
      "Embedding API Error. 오류 발생: 42901: Too many requests - rate exceeded\n",
      "Embedding API Error. 오류 발생: 42901: Too many requests - rate exceeded\n"
     ]
    },
    {
     "name": "stderr",
     "output_type": "stream",
     "text": [
      " 32%|███▏      | 68/212 [00:15<00:14, 10.06it/s]"
     ]
    },
    {
     "name": "stdout",
     "output_type": "stream",
     "text": [
      "Embedding API Error. 오류 발생: 42901: Too many requests - rate exceeded\n",
      "Embedding API Error. 오류 발생: 42901: Too many requests - rate exceeded\n",
      "Embedding API Error. 오류 발생: 42901: Too many requests - rate exceeded\n",
      "Embedding API Error. 오류 발생: 42901: Too many requests - rate exceeded\n"
     ]
    },
    {
     "name": "stderr",
     "output_type": "stream",
     "text": [
      " 34%|███▍      | 72/212 [00:15<00:11, 12.39it/s]"
     ]
    },
    {
     "name": "stdout",
     "output_type": "stream",
     "text": [
      "Embedding API Error. 오류 발생: 42901: Too many requests - rate exceeded\n",
      "Embedding API Error. 오류 발생: 42901: Too many requests - rate exceeded\n",
      "Embedding API Error. 오류 발생: 42901: Too many requests - rate exceeded\n",
      "Embedding API Error. 오류 발생: 42901: Too many requests - rate exceeded\n"
     ]
    },
    {
     "name": "stderr",
     "output_type": "stream",
     "text": [
      " 36%|███▌      | 76/212 [00:15<00:09, 14.29it/s]"
     ]
    },
    {
     "name": "stdout",
     "output_type": "stream",
     "text": [
      "Embedding API Error. 오류 발생: 42901: Too many requests - rate exceeded\n",
      "Embedding API Error. 오류 발생: 42901: Too many requests - rate exceeded\n",
      "Embedding API Error. 오류 발생: 42901: Too many requests - rate exceeded\n",
      "Embedding API Error. 오류 발생: 42901: Too many requests - rate exceeded\n"
     ]
    },
    {
     "name": "stderr",
     "output_type": "stream",
     "text": [
      " 38%|███▊      | 80/212 [00:16<00:08, 14.95it/s]"
     ]
    },
    {
     "name": "stdout",
     "output_type": "stream",
     "text": [
      "Embedding API Error. 오류 발생: 42901: Too many requests - rate exceeded\n",
      "Embedding API Error. 오류 발생: 42901: Too many requests - rate exceeded\n",
      "Embedding API Error. 오류 발생: 42901: Too many requests - rate exceeded\n",
      "Embedding API Error. 오류 발생: 42901: Too many requests - rate exceeded\n"
     ]
    },
    {
     "name": "stderr",
     "output_type": "stream",
     "text": [
      " 40%|███▉      | 84/212 [00:16<00:08, 15.44it/s]"
     ]
    },
    {
     "name": "stdout",
     "output_type": "stream",
     "text": [
      "Embedding API Error. 오류 발생: 42901: Too many requests - rate exceeded\n",
      "Embedding API Error. 오류 발생: 42901: Too many requests - rate exceeded\n",
      "Embedding API Error. 오류 발생: 42901: Too many requests - rate exceeded\n",
      "Embedding API Error. 오류 발생: 42901: Too many requests - rate exceeded\n"
     ]
    },
    {
     "name": "stderr",
     "output_type": "stream",
     "text": [
      " 42%|████▏     | 88/212 [00:16<00:08, 15.35it/s]"
     ]
    },
    {
     "name": "stdout",
     "output_type": "stream",
     "text": [
      "Embedding API Error. 오류 발생: 42901: Too many requests - rate exceeded\n",
      "Embedding API Error. 오류 발생: 42901: Too many requests - rate exceeded\n",
      "Embedding API Error. 오류 발생: 42901: Too many requests - rate exceeded\n",
      "Embedding API Error. 오류 발생: 42901: Too many requests - rate exceeded\n"
     ]
    },
    {
     "name": "stderr",
     "output_type": "stream",
     "text": [
      " 43%|████▎     | 92/212 [00:16<00:07, 15.86it/s]"
     ]
    },
    {
     "name": "stdout",
     "output_type": "stream",
     "text": [
      "Embedding API Error. 오류 발생: 42901: Too many requests - rate exceeded\n",
      "Embedding API Error. 오류 발생: 42901: Too many requests - rate exceeded\n",
      "Embedding API Error. 오류 발생: 42901: Too many requests - rate exceeded\n",
      "Embedding API Error. 오류 발생: 42901: Too many requests - rate exceeded\n"
     ]
    },
    {
     "name": "stderr",
     "output_type": "stream",
     "text": [
      " 45%|████▌     | 96/212 [00:17<00:07, 15.96it/s]"
     ]
    },
    {
     "name": "stdout",
     "output_type": "stream",
     "text": [
      "Embedding API Error. 오류 발생: 42901: Too many requests - rate exceeded\n",
      "Embedding API Error. 오류 발생: 42901: Too many requests - rate exceeded\n",
      "Embedding API Error. 오류 발생: 42901: Too many requests - rate exceeded\n",
      "Embedding API Error. 오류 발생: 42901: Too many requests - rate exceeded\n"
     ]
    },
    {
     "name": "stderr",
     "output_type": "stream",
     "text": [
      " 47%|████▋     | 100/212 [00:17<00:06, 16.53it/s]"
     ]
    },
    {
     "name": "stdout",
     "output_type": "stream",
     "text": [
      "Embedding API Error. 오류 발생: 42901: Too many requests - rate exceeded\n",
      "Embedding API Error. 오류 발생: 42901: Too many requests - rate exceeded\n",
      "Embedding API Error. 오류 발생: 42901: Too many requests - rate exceeded\n",
      "Embedding API Error. 오류 발생: 42901: Too many requests - rate exceeded\n"
     ]
    },
    {
     "name": "stderr",
     "output_type": "stream",
     "text": [
      " 49%|████▉     | 104/212 [00:17<00:06, 17.32it/s]"
     ]
    },
    {
     "name": "stdout",
     "output_type": "stream",
     "text": [
      "Embedding API Error. 오류 발생: 42901: Too many requests - rate exceeded\n",
      "Embedding API Error. 오류 발생: 42901: Too many requests - rate exceeded\n",
      "Embedding API Error. 오류 발생: 42901: Too many requests - rate exceeded\n",
      "Embedding API Error. 오류 발생: 42901: Too many requests - rate exceeded\n"
     ]
    },
    {
     "name": "stderr",
     "output_type": "stream",
     "text": [
      " 51%|█████     | 108/212 [00:17<00:06, 16.81it/s]"
     ]
    },
    {
     "name": "stdout",
     "output_type": "stream",
     "text": [
      "Embedding API Error. 오류 발생: 42901: Too many requests - rate exceeded\n",
      "Embedding API Error. 오류 발생: 42901: Too many requests - rate exceeded\n",
      "Embedding API Error. 오류 발생: 42901: Too many requests - rate exceeded\n",
      "Embedding API Error. 오류 발생: 42901: Too many requests - rate exceeded\n"
     ]
    },
    {
     "name": "stderr",
     "output_type": "stream",
     "text": [
      " 53%|█████▎    | 112/212 [00:18<00:06, 16.02it/s]"
     ]
    },
    {
     "name": "stdout",
     "output_type": "stream",
     "text": [
      "Embedding API Error. 오류 발생: 42901: Too many requests - rate exceeded\n",
      "Embedding API Error. 오류 발생: 42901: Too many requests - rate exceeded\n",
      "Embedding API Error. 오류 발생: 42901: Too many requests - rate exceeded\n",
      "Embedding API Error. 오류 발생: 42901: Too many requests - rate exceeded\n"
     ]
    },
    {
     "name": "stderr",
     "output_type": "stream",
     "text": [
      " 55%|█████▍    | 116/212 [00:18<00:05, 16.51it/s]"
     ]
    },
    {
     "name": "stdout",
     "output_type": "stream",
     "text": [
      "Embedding API Error. 오류 발생: 42901: Too many requests - rate exceeded\n",
      "Embedding API Error. 오류 발생: 42901: Too many requests - rate exceeded\n",
      "Embedding API Error. 오류 발생: 42901: Too many requests - rate exceeded\n",
      "Embedding API Error. 오류 발생: 42901: Too many requests - rate exceeded\n"
     ]
    },
    {
     "name": "stderr",
     "output_type": "stream",
     "text": [
      " 57%|█████▋    | 120/212 [00:18<00:05, 16.46it/s]"
     ]
    },
    {
     "name": "stdout",
     "output_type": "stream",
     "text": [
      "Embedding API Error. 오류 발생: 42901: Too many requests - rate exceeded\n",
      "Embedding API Error. 오류 발생: 42901: Too many requests - rate exceeded\n",
      "Embedding API Error. 오류 발생: 42901: Too many requests - rate exceeded\n",
      "Embedding API Error. 오류 발생: 42901: Too many requests - rate exceeded\n"
     ]
    },
    {
     "name": "stderr",
     "output_type": "stream",
     "text": [
      " 58%|█████▊    | 122/212 [00:18<00:05, 15.45it/s]"
     ]
    },
    {
     "name": "stdout",
     "output_type": "stream",
     "text": [
      "Embedding API Error. 오류 발생: 42901: Too many requests - rate exceeded\n",
      "Embedding API Error. 오류 발생: 42901: Too many requests - rate exceeded\n",
      "Embedding API Error. 오류 발생: 42901: Too many requests - rate exceeded\n"
     ]
    },
    {
     "name": "stderr",
     "output_type": "stream",
     "text": [
      " 59%|█████▉    | 126/212 [00:19<00:06, 12.75it/s]"
     ]
    },
    {
     "name": "stdout",
     "output_type": "stream",
     "text": [
      "Embedding API Error. 오류 발생: 42901: Too many requests - rate exceeded\n",
      "Embedding API Error. 오류 발생: 42901: Too many requests - rate exceeded\n",
      "Embedding API Error. 오류 발생: 42901: Too many requests - rate exceeded\n"
     ]
    },
    {
     "name": "stderr",
     "output_type": "stream",
     "text": [
      " 61%|██████▏   | 130/212 [00:19<00:06, 13.54it/s]"
     ]
    },
    {
     "name": "stdout",
     "output_type": "stream",
     "text": [
      "Embedding API Error. 오류 발생: 42901: Too many requests - rate exceeded\n",
      "Embedding API Error. 오류 발생: 42901: Too many requests - rate exceeded\n",
      "Embedding API Error. 오류 발생: 42901: Too many requests - rate exceeded\n",
      "Embedding API Error. 오류 발생: 42901: Too many requests - rate exceeded\n"
     ]
    },
    {
     "name": "stderr",
     "output_type": "stream",
     "text": [
      " 63%|██████▎   | 134/212 [00:19<00:05, 14.50it/s]"
     ]
    },
    {
     "name": "stdout",
     "output_type": "stream",
     "text": [
      "Embedding API Error. 오류 발생: 42901: Too many requests - rate exceeded\n",
      "Embedding API Error. 오류 발생: 42901: Too many requests - rate exceeded\n",
      "Embedding API Error. 오류 발생: 42901: Too many requests - rate exceeded\n",
      "Embedding API Error. 오류 발생: 42901: Too many requests - rate exceeded\n"
     ]
    },
    {
     "name": "stderr",
     "output_type": "stream",
     "text": [
      " 64%|██████▍   | 136/212 [00:19<00:05, 14.47it/s]"
     ]
    },
    {
     "name": "stdout",
     "output_type": "stream",
     "text": [
      "Embedding API Error. 오류 발생: 42901: Too many requests - rate exceeded\n",
      "Embedding API Error. 오류 발생: 42901: Too many requests - rate exceeded\n",
      "Embedding API Error. 오류 발생: 42901: Too many requests - rate exceeded\n"
     ]
    },
    {
     "name": "stderr",
     "output_type": "stream",
     "text": [
      " 66%|██████▌   | 140/212 [00:20<00:04, 14.86it/s]"
     ]
    },
    {
     "name": "stdout",
     "output_type": "stream",
     "text": [
      "Embedding API Error. 오류 발생: 42901: Too many requests - rate exceeded\n",
      "Embedding API Error. 오류 발생: 42901: Too many requests - rate exceeded\n",
      "Embedding API Error. 오류 발생: 42901: Too many requests - rate exceeded\n",
      "Embedding API Error. 오류 발생: 42901: Too many requests - rate exceeded\n"
     ]
    },
    {
     "name": "stderr",
     "output_type": "stream",
     "text": [
      " 68%|██████▊   | 144/212 [00:20<00:04, 15.71it/s]"
     ]
    },
    {
     "name": "stdout",
     "output_type": "stream",
     "text": [
      "Embedding API Error. 오류 발생: 42901: Too many requests - rate exceeded\n",
      "Embedding API Error. 오류 발생: 42901: Too many requests - rate exceeded\n",
      "Embedding API Error. 오류 발생: 42901: Too many requests - rate exceeded\n"
     ]
    },
    {
     "name": "stderr",
     "output_type": "stream",
     "text": [
      " 70%|██████▉   | 148/212 [00:20<00:04, 15.86it/s]"
     ]
    },
    {
     "name": "stdout",
     "output_type": "stream",
     "text": [
      "Embedding API Error. 오류 발생: 42901: Too many requests - rate exceeded\n",
      "Embedding API Error. 오류 발생: 42901: Too many requests - rate exceeded\n",
      "Embedding API Error. 오류 발생: 42901: Too many requests - rate exceeded\n",
      "Embedding API Error. 오류 발생: 42901: Too many requests - rate exceeded\n"
     ]
    },
    {
     "name": "stderr",
     "output_type": "stream",
     "text": [
      " 71%|███████   | 150/212 [00:20<00:04, 15.41it/s]"
     ]
    },
    {
     "name": "stdout",
     "output_type": "stream",
     "text": [
      "Embedding API Error. 오류 발생: 42901: Too many requests - rate exceeded\n",
      "Embedding API Error. 오류 발생: 42901: Too many requests - rate exceeded\n",
      "Embedding API Error. 오류 발생: 42901: Too many requests - rate exceeded\n"
     ]
    },
    {
     "name": "stderr",
     "output_type": "stream",
     "text": [
      " 73%|███████▎  | 154/212 [00:20<00:03, 16.67it/s]"
     ]
    },
    {
     "name": "stdout",
     "output_type": "stream",
     "text": [
      "Embedding API Error. 오류 발생: 42901: Too many requests - rate exceeded\n",
      "Embedding API Error. 오류 발생: 42901: Too many requests - rate exceeded\n",
      "Embedding API Error. 오류 발생: 42901: Too many requests - rate exceeded\n",
      "Embedding API Error. 오류 발생: 42901: Too many requests - rate exceeded\n"
     ]
    },
    {
     "name": "stderr",
     "output_type": "stream",
     "text": [
      " 75%|███████▍  | 158/212 [00:21<00:03, 16.53it/s]"
     ]
    },
    {
     "name": "stdout",
     "output_type": "stream",
     "text": [
      "Embedding API Error. 오류 발생: 42901: Too many requests - rate exceeded\n",
      "Embedding API Error. 오류 발생: 42901: Too many requests - rate exceeded\n",
      "Embedding API Error. 오류 발생: 42901: Too many requests - rate exceeded\n",
      "Embedding API Error. 오류 발생: 42901: Too many requests - rate exceeded\n"
     ]
    },
    {
     "name": "stderr",
     "output_type": "stream",
     "text": [
      " 75%|███████▌  | 160/212 [00:21<00:03, 16.07it/s]"
     ]
    },
    {
     "name": "stdout",
     "output_type": "stream",
     "text": [
      "Embedding API Error. 오류 발생: 42901: Too many requests - rate exceeded\n",
      "Embedding API Error. 오류 발생: 42901: Too many requests - rate exceeded\n"
     ]
    },
    {
     "name": "stderr",
     "output_type": "stream",
     "text": [
      " 77%|███████▋  | 164/212 [00:22<00:05,  8.07it/s]"
     ]
    },
    {
     "name": "stdout",
     "output_type": "stream",
     "text": [
      "Embedding API Error. 오류 발생: 42901: Too many requests - rate exceeded\n",
      "Embedding API Error. 오류 발생: 42901: Too many requests - rate exceeded\n",
      "Embedding API Error. 오류 발생: 42901: Too many requests - rate exceeded\n"
     ]
    },
    {
     "name": "stderr",
     "output_type": "stream",
     "text": [
      " 79%|███████▉  | 168/212 [00:22<00:04, 10.94it/s]"
     ]
    },
    {
     "name": "stdout",
     "output_type": "stream",
     "text": [
      "Embedding API Error. 오류 발생: 42901: Too many requests - rate exceeded\n",
      "Embedding API Error. 오류 발생: 42901: Too many requests - rate exceeded\n",
      "Embedding API Error. 오류 발생: 42901: Too many requests - rate exceeded\n",
      "Embedding API Error. 오류 발생: 42901: Too many requests - rate exceeded\n"
     ]
    },
    {
     "name": "stderr",
     "output_type": "stream",
     "text": [
      " 81%|████████  | 172/212 [00:22<00:03, 13.05it/s]"
     ]
    },
    {
     "name": "stdout",
     "output_type": "stream",
     "text": [
      "Embedding API Error. 오류 발생: 42901: Too many requests - rate exceeded\n",
      "Embedding API Error. 오류 발생: 42901: Too many requests - rate exceeded\n",
      "Embedding API Error. 오류 발생: 42901: Too many requests - rate exceeded\n",
      "Embedding API Error. 오류 발생: 42901: Too many requests - rate exceeded\n"
     ]
    },
    {
     "name": "stderr",
     "output_type": "stream",
     "text": [
      " 82%|████████▏ | 174/212 [00:22<00:02, 12.71it/s]"
     ]
    },
    {
     "name": "stdout",
     "output_type": "stream",
     "text": [
      "Embedding API Error. 오류 발생: 42901: Too many requests - rate exceeded\n",
      "Embedding API Error. 오류 발생: 42901: Too many requests - rate exceeded\n",
      "Embedding API Error. 오류 발생: 42901: Too many requests - rate exceeded\n"
     ]
    },
    {
     "name": "stderr",
     "output_type": "stream",
     "text": [
      " 84%|████████▍ | 178/212 [00:23<00:02, 14.28it/s]"
     ]
    },
    {
     "name": "stdout",
     "output_type": "stream",
     "text": [
      "Embedding API Error. 오류 발생: 42901: Too many requests - rate exceeded\n",
      "Embedding API Error. 오류 발생: 42901: Too many requests - rate exceeded\n",
      "Embedding API Error. 오류 발생: 42901: Too many requests - rate exceeded\n",
      "Embedding API Error. 오류 발생: 42901: Too many requests - rate exceeded\n"
     ]
    },
    {
     "name": "stderr",
     "output_type": "stream",
     "text": [
      " 86%|████████▌ | 182/212 [00:23<00:01, 15.70it/s]"
     ]
    },
    {
     "name": "stdout",
     "output_type": "stream",
     "text": [
      "Embedding API Error. 오류 발생: 42901: Too many requests - rate exceeded\n",
      "Embedding API Error. 오류 발생: 42901: Too many requests - rate exceeded\n",
      "Embedding API Error. 오류 발생: 42901: Too many requests - rate exceeded\n",
      "Embedding API Error. 오류 발생: 42901: Too many requests - rate exceeded\n"
     ]
    },
    {
     "name": "stderr",
     "output_type": "stream",
     "text": [
      " 88%|████████▊ | 186/212 [00:23<00:01, 15.75it/s]"
     ]
    },
    {
     "name": "stdout",
     "output_type": "stream",
     "text": [
      "Embedding API Error. 오류 발생: 42901: Too many requests - rate exceeded\n",
      "Embedding API Error. 오류 발생: 42901: Too many requests - rate exceeded\n",
      "Embedding API Error. 오류 발생: 42901: Too many requests - rate exceeded\n",
      "Embedding API Error. 오류 발생: 42901: Too many requests - rate exceeded\n"
     ]
    },
    {
     "name": "stderr",
     "output_type": "stream",
     "text": [
      " 90%|████████▉ | 190/212 [00:23<00:01, 16.62it/s]"
     ]
    },
    {
     "name": "stdout",
     "output_type": "stream",
     "text": [
      "Embedding API Error. 오류 발생: 42901: Too many requests - rate exceeded\n",
      "Embedding API Error. 오류 발생: 42901: Too many requests - rate exceeded\n",
      "Embedding API Error. 오류 발생: 42901: Too many requests - rate exceeded\n",
      "Embedding API Error. 오류 발생: 42901: Too many requests - rate exceeded\n"
     ]
    },
    {
     "name": "stderr",
     "output_type": "stream",
     "text": [
      " 92%|█████████▏| 194/212 [00:24<00:01, 16.25it/s]"
     ]
    },
    {
     "name": "stdout",
     "output_type": "stream",
     "text": [
      "Embedding API Error. 오류 발생: 42901: Too many requests - rate exceeded\n",
      "Embedding API Error. 오류 발생: 42901: Too many requests - rate exceeded\n",
      "Embedding API Error. 오류 발생: 42901: Too many requests - rate exceeded\n",
      "Embedding API Error. 오류 발생: 42901: Too many requests - rate exceeded\n"
     ]
    },
    {
     "name": "stderr",
     "output_type": "stream",
     "text": [
      " 93%|█████████▎| 198/212 [00:24<00:00, 14.77it/s]"
     ]
    },
    {
     "name": "stdout",
     "output_type": "stream",
     "text": [
      "Embedding API Error. 오류 발생: 42901: Too many requests - rate exceeded\n",
      "Embedding API Error. 오류 발생: 42901: Too many requests - rate exceeded\n",
      "Embedding API Error. 오류 발생: 42901: Too many requests - rate exceeded\n"
     ]
    },
    {
     "name": "stderr",
     "output_type": "stream",
     "text": [
      " 95%|█████████▌| 202/212 [00:24<00:00, 15.23it/s]"
     ]
    },
    {
     "name": "stdout",
     "output_type": "stream",
     "text": [
      "Embedding API Error. 오류 발생: 42901: Too many requests - rate exceeded\n",
      "Embedding API Error. 오류 발생: 42901: Too many requests - rate exceeded\n",
      "Embedding API Error. 오류 발생: 42901: Too many requests - rate exceeded\n",
      "Embedding API Error. 오류 발생: 42901: Too many requests - rate exceeded\n"
     ]
    },
    {
     "name": "stderr",
     "output_type": "stream",
     "text": [
      " 97%|█████████▋| 206/212 [00:24<00:00, 16.44it/s]"
     ]
    },
    {
     "name": "stdout",
     "output_type": "stream",
     "text": [
      "Embedding API Error. 오류 발생: 42901: Too many requests - rate exceeded\n",
      "Embedding API Error. 오류 발생: 42901: Too many requests - rate exceeded\n",
      "Embedding API Error. 오류 발생: 42901: Too many requests - rate exceeded\n",
      "Embedding API Error. 오류 발생: 42901: Too many requests - rate exceeded\n"
     ]
    },
    {
     "name": "stderr",
     "output_type": "stream",
     "text": [
      " 99%|█████████▉| 210/212 [00:25<00:00, 16.74it/s]"
     ]
    },
    {
     "name": "stdout",
     "output_type": "stream",
     "text": [
      "Embedding API Error. 오류 발생: 42901: Too many requests - rate exceeded\n",
      "Embedding API Error. 오류 발생: 42901: Too many requests - rate exceeded\n",
      "Embedding API Error. 오류 발생: 42901: Too many requests - rate exceeded\n",
      "Embedding API Error. 오류 발생: 42901: Too many requests - rate exceeded\n"
     ]
    },
    {
     "name": "stderr",
     "output_type": "stream",
     "text": [
      "100%|██████████| 212/212 [00:25<00:00,  8.42it/s]"
     ]
    },
    {
     "name": "stdout",
     "output_type": "stream",
     "text": [
      "Embedding API Error. 오류 발생: 42901: Too many requests - rate exceeded\n",
      "Embedding API Error. 오류 발생: 42901: Too many requests - rate exceeded\n"
     ]
    },
    {
     "name": "stderr",
     "output_type": "stream",
     "text": [
      "\n"
     ]
    }
   ],
   "source": [
    "class EmbeddingExecutor:\n",
    "    def __init__(self, host, api_key, api_key_primary_val, request_id):\n",
    "        self._host = host\n",
    "        self._api_key = api_key\n",
    "        self._api_key_primary_val = api_key_primary_val\n",
    "        self._request_id = request_id\n",
    "\n",
    "    def _send_request(self, completion_request):\n",
    "        headers = {\n",
    "            'Content-Type': 'application/json; charset=utf-8',\n",
    "            'X-NCP-CLOVASTUDIO-API-KEY': self._api_key,\n",
    "            'X-NCP-APIGW-API-KEY': self._api_key_primary_val,\n",
    "            'X-NCP-CLOVASTUDIO-REQUEST-ID': self._request_id\n",
    "        }\n",
    "\n",
    "        conn = http.client.HTTPSConnection(self._host)\n",
    "        conn.request(\n",
    "            'POST', \n",
    "            '/testapp/v1/api-tools/embedding/v2/2296ea6a879a4a4498337e5f2d0cc789', \n",
    "            json.dumps(completion_request), \n",
    "            headers\n",
    "        )\n",
    "        response = conn.getresponse()\n",
    "        result = json.loads(response.read().decode(encoding='utf-8'))\n",
    "        conn.close()\n",
    "        return result\n",
    "\n",
    "    def execute(self, completion_request):\n",
    "        res = self._send_request(completion_request)\n",
    "        if res['status']['code'] == '20000':\n",
    "            return res['result']['embedding']\n",
    "        else:\n",
    "            error_code = res[\"status\"][\"code\"]\n",
    "            error_message = res.get(\"status\", {}).get(\"message\", \"Unknown error\")\n",
    "            raise ValueError(f\"오류 발생: {error_code}: {error_message}\")\n",
    "\n",
    "\n",
    "if __name__ == '__main__':\n",
    "    embedding_executor = EmbeddingExecutor(\n",
    "        host='clovastudio.apigw.ntruss.com',\n",
    "        api_key='NTA0MjU2MWZlZTcxNDJiY4qFDZAWlqFMzImmP0HcHEB5yfXVQ1u0DGKUuK5/Mz8w',\n",
    "        api_key_primary_val = 'OnBeBKQrOFqEElE96ackKhkzUfwOMkNbqV7bZU04',\n",
    "        request_id='dc14a55b-9ac5-4c8e-88cb-afb1faf1a05d'\n",
    "    )\n",
    "\n",
    "    for i, chunked_document in enumerate(tqdm(chunked_html)):\n",
    "        try:\n",
    "            request_json = {\n",
    "                \"text\": chunked_document['text']\n",
    "            }\n",
    "            request_json_string = json.dumps(request_json)\n",
    "            request_data = json.loads(request_json_string, strict=False)\n",
    "            response_data = embedding_executor.execute(request_data)\n",
    "        except ValueError as e:\n",
    "            print(f\"Embedding API Error. {e}\")\n",
    "        except Exception as e:\n",
    "            print(f\"Unexpected error: {e}\")\n",
    "         \n",
    "        chunked_document[\"embedding\"] = response_data\n"
   ]
  },
  {
   "cell_type": "code",
   "execution_count": 48,
   "metadata": {},
   "outputs": [
    {
     "name": "stdout",
     "output_type": "stream",
     "text": [
      "임베딩된 벡터들의 차원: {1024}\n"
     ]
    }
   ],
   "source": [
    "dimension_set = set()\n",
    " \n",
    "for item in chunked_html:\n",
    "    if \"embedding\" in item:\n",
    "        dimension = len(item[\"embedding\"])\n",
    "        dimension_set.add(dimension)\n",
    " \n",
    "print(\"임베딩된 벡터들의 차원:\", dimension_set)"
   ]
  },
  {
   "cell_type": "code",
   "execution_count": 50,
   "metadata": {},
   "outputs": [
    {
     "data": {
      "text/plain": [
       "{'source': '/Users/geesuee/jinjihan/bside_jupyter/PROGRAME/POTENDAY/2409_FAQ 응답 챗봇/2_RAG/02_potenday/potendayguide/비사이드 X 네이버 클라우드 플랫폼 e884b04cad38442f91eb1e70aee6c868.html',\n",
       " 'text': 'NAVER Cloud Platform 사용 주의 사항 NAVER Cloud Platform 관련 FAQ',\n",
       " 'embedding': [0.47265625,\n",
       "  0.31762695,\n",
       "  -0.81103516,\n",
       "  1.1787109,\n",
       "  -0.85253906,\n",
       "  -1.1875,\n",
       "  1.1962891,\n",
       "  -1.7382812,\n",
       "  -0.09289551,\n",
       "  0.6064453,\n",
       "  1.0634766,\n",
       "  0.3395996,\n",
       "  0.52246094,\n",
       "  0.107055664,\n",
       "  -0.15014648,\n",
       "  -0.9760742,\n",
       "  0.035064697,\n",
       "  -1.8496094,\n",
       "  0.42358398,\n",
       "  0.35205078,\n",
       "  -0.38378906,\n",
       "  -0.26513672,\n",
       "  0.4543457,\n",
       "  -0.2668457,\n",
       "  -0.3334961,\n",
       "  -0.76708984,\n",
       "  0.17138672,\n",
       "  1.0615234,\n",
       "  0.7495117,\n",
       "  1.2158203,\n",
       "  0.41601562,\n",
       "  -0.47338867,\n",
       "  0.5625,\n",
       "  -1.2529297,\n",
       "  0.5800781,\n",
       "  -0.6899414,\n",
       "  0.39038086,\n",
       "  -0.41015625,\n",
       "  -0.58740234,\n",
       "  1.3076172,\n",
       "  -0.8466797,\n",
       "  0.5683594,\n",
       "  -0.29492188,\n",
       "  -0.51171875,\n",
       "  0.6669922,\n",
       "  -0.5048828,\n",
       "  0.17456055,\n",
       "  0.33764648,\n",
       "  -0.7597656,\n",
       "  -0.091430664,\n",
       "  0.06915283,\n",
       "  0.61865234,\n",
       "  0.27929688,\n",
       "  0.14379883,\n",
       "  -0.4609375,\n",
       "  0.88964844,\n",
       "  0.7001953,\n",
       "  -0.63720703,\n",
       "  0.07598877,\n",
       "  -0.7211914,\n",
       "  0.008224487,\n",
       "  0.8911133,\n",
       "  -0.54785156,\n",
       "  -0.67626953,\n",
       "  0.85058594,\n",
       "  1.3720703,\n",
       "  1.8769531,\n",
       "  0.7368164,\n",
       "  -0.61083984,\n",
       "  -1.3720703,\n",
       "  0.7006836,\n",
       "  -0.033416748,\n",
       "  -1.5546875,\n",
       "  -1.3564453,\n",
       "  -1.4277344,\n",
       "  1.2744141,\n",
       "  0.27075195,\n",
       "  -0.55615234,\n",
       "  0.15344238,\n",
       "  0.28076172,\n",
       "  -0.17565918,\n",
       "  -1.0595703,\n",
       "  0.10058594,\n",
       "  -0.9838867,\n",
       "  0.56152344,\n",
       "  0.36108398,\n",
       "  -0.20129395,\n",
       "  0.4934082,\n",
       "  -0.39770508,\n",
       "  1.0078125,\n",
       "  0.17126465,\n",
       "  -0.9169922,\n",
       "  0.10076904,\n",
       "  -0.15600586,\n",
       "  -0.79003906,\n",
       "  -1.359375,\n",
       "  0.5805664,\n",
       "  0.31176758,\n",
       "  0.6196289,\n",
       "  -0.30029297,\n",
       "  1.5917969,\n",
       "  0.54589844,\n",
       "  0.2097168,\n",
       "  -0.45922852,\n",
       "  -1.0849609,\n",
       "  0.17272949,\n",
       "  1.7158203,\n",
       "  0.39770508,\n",
       "  0.27978516,\n",
       "  0.105285645,\n",
       "  0.09661865,\n",
       "  0.07318115,\n",
       "  1.0507812,\n",
       "  1.3115234,\n",
       "  0.055847168,\n",
       "  -0.71533203,\n",
       "  0.90527344,\n",
       "  -0.68603516,\n",
       "  -0.58154297,\n",
       "  -0.7163086,\n",
       "  0.9790039,\n",
       "  -0.50683594,\n",
       "  1.0546875,\n",
       "  -1.0478516,\n",
       "  -0.36987305,\n",
       "  -1.0488281,\n",
       "  -1.3603516,\n",
       "  -0.3095703,\n",
       "  -1.2792969,\n",
       "  0.31933594,\n",
       "  -0.92285156,\n",
       "  1.1416016,\n",
       "  -0.076049805,\n",
       "  -0.27905273,\n",
       "  -0.81689453,\n",
       "  -0.010047913,\n",
       "  0.12036133,\n",
       "  0.39282227,\n",
       "  0.6870117,\n",
       "  0.12939453,\n",
       "  0.9667969,\n",
       "  -0.37060547,\n",
       "  -0.6298828,\n",
       "  -0.98291016,\n",
       "  1.4931641,\n",
       "  1.2089844,\n",
       "  0.2685547,\n",
       "  -1.0214844,\n",
       "  -0.5107422,\n",
       "  -1.046875,\n",
       "  1.1757812,\n",
       "  0.51123047,\n",
       "  1.1494141,\n",
       "  0.5083008,\n",
       "  -0.3166504,\n",
       "  -0.14672852,\n",
       "  -0.61035156,\n",
       "  -0.49194336,\n",
       "  -0.8125,\n",
       "  0.4909668,\n",
       "  -1.1064453,\n",
       "  0.9057617,\n",
       "  -0.77246094,\n",
       "  -0.81591797,\n",
       "  0.8417969,\n",
       "  -0.9501953,\n",
       "  0.9404297,\n",
       "  0.4633789,\n",
       "  -0.029464722,\n",
       "  0.39208984,\n",
       "  -1.1767578,\n",
       "  -1.0683594,\n",
       "  1.5302734,\n",
       "  0.28979492,\n",
       "  0.8251953,\n",
       "  0.8564453,\n",
       "  1.8369141,\n",
       "  0.13171387,\n",
       "  -0.107666016,\n",
       "  -0.87109375,\n",
       "  -1.5869141,\n",
       "  0.26611328,\n",
       "  -0.3010254,\n",
       "  -0.93896484,\n",
       "  -0.39331055,\n",
       "  0.3251953,\n",
       "  -1.4462891,\n",
       "  -0.13977051,\n",
       "  0.052490234,\n",
       "  0.028457642,\n",
       "  -1.0576172,\n",
       "  0.30932617,\n",
       "  0.37939453,\n",
       "  0.31030273,\n",
       "  0.48510742,\n",
       "  0.5917969,\n",
       "  -0.41992188,\n",
       "  0.61621094,\n",
       "  -0.021591187,\n",
       "  0.9082031,\n",
       "  -1.5419922,\n",
       "  0.71191406,\n",
       "  0.42578125,\n",
       "  0.54248047,\n",
       "  0.82128906,\n",
       "  0.71435547,\n",
       "  -0.10681152,\n",
       "  -0.33520508,\n",
       "  0.6435547,\n",
       "  -0.46875,\n",
       "  -0.24890137,\n",
       "  0.7583008,\n",
       "  0.07476807,\n",
       "  -0.3774414,\n",
       "  0.33520508,\n",
       "  0.39208984,\n",
       "  -0.38549805,\n",
       "  1.1289062,\n",
       "  0.65966797,\n",
       "  -0.3461914,\n",
       "  0.23327637,\n",
       "  1.1035156,\n",
       "  0.14013672,\n",
       "  1.7373047,\n",
       "  -0.19482422,\n",
       "  -0.89990234,\n",
       "  0.2265625,\n",
       "  1.2246094,\n",
       "  -0.9916992,\n",
       "  -0.16345215,\n",
       "  0.8251953,\n",
       "  0.25073242,\n",
       "  -0.15270996,\n",
       "  0.09277344,\n",
       "  0.33642578,\n",
       "  -0.74609375,\n",
       "  -0.74121094,\n",
       "  -0.609375,\n",
       "  0.26757812,\n",
       "  0.067993164,\n",
       "  -0.9716797,\n",
       "  0.39575195,\n",
       "  -0.765625,\n",
       "  0.7495117,\n",
       "  -0.27368164,\n",
       "  0.4243164,\n",
       "  -1.0556641,\n",
       "  1.3125,\n",
       "  0.03692627,\n",
       "  -0.89501953,\n",
       "  -0.4609375,\n",
       "  0.30541992,\n",
       "  -0.56152344,\n",
       "  -0.45898438,\n",
       "  0.5209961,\n",
       "  -0.34033203,\n",
       "  -0.62841797,\n",
       "  -0.69189453,\n",
       "  -0.3359375,\n",
       "  -0.34033203,\n",
       "  0.38305664,\n",
       "  1.0507812,\n",
       "  -1.1738281,\n",
       "  0.20019531,\n",
       "  2.2421875,\n",
       "  -0.056549072,\n",
       "  -0.1685791,\n",
       "  0.058258057,\n",
       "  0.4025879,\n",
       "  0.6953125,\n",
       "  -0.29345703,\n",
       "  -0.10296631,\n",
       "  -0.28588867,\n",
       "  -0.13098145,\n",
       "  -0.8095703,\n",
       "  0.7871094,\n",
       "  -0.048614502,\n",
       "  -0.20788574,\n",
       "  0.87109375,\n",
       "  0.4206543,\n",
       "  -0.09490967,\n",
       "  -0.55078125,\n",
       "  0.7890625,\n",
       "  0.14611816,\n",
       "  1.3867188,\n",
       "  -0.4321289,\n",
       "  -0.48828125,\n",
       "  -0.7651367,\n",
       "  0.17150879,\n",
       "  -0.70458984,\n",
       "  -1.1083984,\n",
       "  -0.6582031,\n",
       "  1.6123047,\n",
       "  -0.484375,\n",
       "  1.1142578,\n",
       "  -0.45361328,\n",
       "  0.019165039,\n",
       "  -3.7734375,\n",
       "  0.58691406,\n",
       "  1.2001953,\n",
       "  0.16027832,\n",
       "  -0.08312988,\n",
       "  -0.030960083,\n",
       "  -1.5166016,\n",
       "  -0.5761719,\n",
       "  -1.5830078,\n",
       "  1.8173828,\n",
       "  0.101745605,\n",
       "  -1.2578125,\n",
       "  1.3378906,\n",
       "  1.859375,\n",
       "  0.46166992,\n",
       "  -0.69921875,\n",
       "  0.052337646,\n",
       "  -0.37329102,\n",
       "  0.14782715,\n",
       "  -0.8691406,\n",
       "  0.0592041,\n",
       "  -1.2607422,\n",
       "  0.8334961,\n",
       "  -0.65771484,\n",
       "  -1.7167969,\n",
       "  1.0556641,\n",
       "  -0.39208984,\n",
       "  -0.2980957,\n",
       "  -0.91308594,\n",
       "  -0.77001953,\n",
       "  -0.61328125,\n",
       "  0.5419922,\n",
       "  0.12390137,\n",
       "  -0.7597656,\n",
       "  1.2578125,\n",
       "  0.9248047,\n",
       "  -0.0848999,\n",
       "  -0.20410156,\n",
       "  0.1104126,\n",
       "  0.8876953,\n",
       "  0.8227539,\n",
       "  1.6142578,\n",
       "  0.115478516,\n",
       "  0.62353516,\n",
       "  -0.8540039,\n",
       "  0.31518555,\n",
       "  -0.48535156,\n",
       "  2.0449219,\n",
       "  -1.7099609,\n",
       "  -0.42041016,\n",
       "  1.5341797,\n",
       "  -0.25195312,\n",
       "  -0.12658691,\n",
       "  -1.3242188,\n",
       "  -0.6816406,\n",
       "  -0.07861328,\n",
       "  -1.0048828,\n",
       "  0.10247803,\n",
       "  -1.3222656,\n",
       "  -0.23217773,\n",
       "  -0.45361328,\n",
       "  -2.2851562,\n",
       "  1.2802734,\n",
       "  -0.23876953,\n",
       "  -0.27392578,\n",
       "  0.62597656,\n",
       "  -0.3959961,\n",
       "  -0.96435547,\n",
       "  0.2614746,\n",
       "  -1.0087891,\n",
       "  1.0673828,\n",
       "  -0.31054688,\n",
       "  1.2822266,\n",
       "  -0.10345459,\n",
       "  0.16809082,\n",
       "  -0.17150879,\n",
       "  -0.13891602,\n",
       "  -0.2364502,\n",
       "  0.20007324,\n",
       "  -1.7988281,\n",
       "  -0.62597656,\n",
       "  0.515625,\n",
       "  -0.48168945,\n",
       "  -0.12414551,\n",
       "  -0.3178711,\n",
       "  -0.91796875,\n",
       "  -0.15197754,\n",
       "  0.95410156,\n",
       "  0.35791016,\n",
       "  5.7421875,\n",
       "  0.026794434,\n",
       "  -0.6269531,\n",
       "  -1.3945312,\n",
       "  1.0039062,\n",
       "  0.6977539,\n",
       "  0.20935059,\n",
       "  0.48291016,\n",
       "  0.21362305,\n",
       "  -1.4257812,\n",
       "  0.121398926,\n",
       "  -0.90771484,\n",
       "  -0.38842773,\n",
       "  0.25585938,\n",
       "  -0.59375,\n",
       "  0.18457031,\n",
       "  0.38720703,\n",
       "  -0.3203125,\n",
       "  1.0039062,\n",
       "  -1.5839844,\n",
       "  0.1920166,\n",
       "  -0.12670898,\n",
       "  -0.3383789,\n",
       "  -0.4248047,\n",
       "  -1.1591797,\n",
       "  -1.0009766,\n",
       "  -0.45166016,\n",
       "  0.27954102,\n",
       "  -0.77490234,\n",
       "  1.7285156,\n",
       "  -0.7319336,\n",
       "  0.6616211,\n",
       "  -0.050567627,\n",
       "  0.7182617,\n",
       "  -1.2294922,\n",
       "  -0.0725708,\n",
       "  0.65478516,\n",
       "  0.6826172,\n",
       "  -0.24951172,\n",
       "  0.4248047,\n",
       "  0.17321777,\n",
       "  -0.6953125,\n",
       "  0.11767578,\n",
       "  0.40112305,\n",
       "  0.12219238,\n",
       "  -0.51953125,\n",
       "  -0.46533203,\n",
       "  -0.6591797,\n",
       "  0.09100342,\n",
       "  -0.9165039,\n",
       "  0.21936035,\n",
       "  -0.82714844,\n",
       "  0.48608398,\n",
       "  -0.42114258,\n",
       "  0.26245117,\n",
       "  0.4453125,\n",
       "  -0.28051758,\n",
       "  -1.2832031,\n",
       "  -0.17102051,\n",
       "  0.109680176,\n",
       "  0.3095703,\n",
       "  0.71972656,\n",
       "  -0.8022461,\n",
       "  -0.87060547,\n",
       "  -1.4882812,\n",
       "  -0.38134766,\n",
       "  -0.5126953,\n",
       "  0.05117798,\n",
       "  0.32592773,\n",
       "  -0.7211914,\n",
       "  0.16333008,\n",
       "  -0.16870117,\n",
       "  0.9663086,\n",
       "  0.5878906,\n",
       "  1.2177734,\n",
       "  -0.91503906,\n",
       "  0.49072266,\n",
       "  1.0654297,\n",
       "  -0.34423828,\n",
       "  0.50146484,\n",
       "  -1.2646484,\n",
       "  0.023040771,\n",
       "  -0.33276367,\n",
       "  0.40112305,\n",
       "  -0.14257812,\n",
       "  -0.4885254,\n",
       "  0.26733398,\n",
       "  1.8398438,\n",
       "  -0.9086914,\n",
       "  -0.4868164,\n",
       "  -1.0244141,\n",
       "  0.31225586,\n",
       "  1.1464844,\n",
       "  -0.59814453,\n",
       "  -0.7402344,\n",
       "  0.032104492,\n",
       "  0.058624268,\n",
       "  0.23254395,\n",
       "  -0.7470703,\n",
       "  -0.55126953,\n",
       "  -1.9902344,\n",
       "  0.79785156,\n",
       "  -0.42749023,\n",
       "  -0.9785156,\n",
       "  0.46166992,\n",
       "  -0.48095703,\n",
       "  -0.27685547,\n",
       "  0.27124023,\n",
       "  -1.0068359,\n",
       "  0.55859375,\n",
       "  -0.6953125,\n",
       "  -0.030700684,\n",
       "  -0.671875,\n",
       "  -0.5991211,\n",
       "  -0.5756836,\n",
       "  -0.016677856,\n",
       "  -0.44995117,\n",
       "  0.06365967,\n",
       "  0.38378906,\n",
       "  0.5317383,\n",
       "  0.68115234,\n",
       "  -0.94189453,\n",
       "  -0.27685547,\n",
       "  0.73339844,\n",
       "  -0.2758789,\n",
       "  -0.8515625,\n",
       "  -0.67822266,\n",
       "  -0.7607422,\n",
       "  -1.1914062,\n",
       "  -0.48583984,\n",
       "  -0.01309967,\n",
       "  -1.0205078,\n",
       "  -0.6665039,\n",
       "  0.5385742,\n",
       "  -0.2553711,\n",
       "  0.3232422,\n",
       "  0.89746094,\n",
       "  -0.064453125,\n",
       "  0.8154297,\n",
       "  0.29614258,\n",
       "  -1.0634766,\n",
       "  -0.10003662,\n",
       "  -0.5878906,\n",
       "  -0.19421387,\n",
       "  0.83935547,\n",
       "  1.1787109,\n",
       "  -0.6347656,\n",
       "  0.9819336,\n",
       "  -0.10321045,\n",
       "  2.0488281,\n",
       "  0.47509766,\n",
       "  1.2802734,\n",
       "  0.74609375,\n",
       "  -0.006454468,\n",
       "  0.37646484,\n",
       "  -1.0986328,\n",
       "  -0.43237305,\n",
       "  0.84814453,\n",
       "  -0.7788086,\n",
       "  0.057159424,\n",
       "  -1.2021484,\n",
       "  0.9404297,\n",
       "  0.6611328,\n",
       "  0.9301758,\n",
       "  0.5493164,\n",
       "  0.89160156,\n",
       "  -0.48535156,\n",
       "  0.90966797,\n",
       "  -1.2373047,\n",
       "  -1.0556641,\n",
       "  -0.14465332,\n",
       "  -1.0742188,\n",
       "  -1.1210938,\n",
       "  0.9902344,\n",
       "  1.4238281,\n",
       "  -0.036376953,\n",
       "  -0.43139648,\n",
       "  0.27905273,\n",
       "  0.5415039,\n",
       "  0.07757568,\n",
       "  0.79345703,\n",
       "  0.7211914,\n",
       "  -2.515625,\n",
       "  -0.09851074,\n",
       "  2.0605469,\n",
       "  0.4736328,\n",
       "  -0.24060059,\n",
       "  -0.10455322,\n",
       "  2.3125,\n",
       "  -0.80126953,\n",
       "  -0.72998047,\n",
       "  2.2558594,\n",
       "  -0.47094727,\n",
       "  -0.79589844,\n",
       "  -0.8823242,\n",
       "  1.9921875,\n",
       "  0.42651367,\n",
       "  -0.1060791,\n",
       "  -0.37670898,\n",
       "  0.31640625,\n",
       "  -0.80810547,\n",
       "  -0.6040039,\n",
       "  -0.33789062,\n",
       "  -1.1347656,\n",
       "  -0.10736084,\n",
       "  -0.6645508,\n",
       "  0.2956543,\n",
       "  1.0761719,\n",
       "  -0.75878906,\n",
       "  1.1337891,\n",
       "  0.16699219,\n",
       "  -0.59521484,\n",
       "  -1.4208984,\n",
       "  -0.22460938,\n",
       "  0.25,\n",
       "  -0.59716797,\n",
       "  0.22180176,\n",
       "  1.3427734,\n",
       "  -1.0136719,\n",
       "  -0.22277832,\n",
       "  -0.6542969,\n",
       "  -0.11651611,\n",
       "  0.37695312,\n",
       "  -0.057403564,\n",
       "  -0.46289062,\n",
       "  0.021377563,\n",
       "  0.40429688,\n",
       "  -0.17858887,\n",
       "  -0.27368164,\n",
       "  0.5058594,\n",
       "  0.058532715,\n",
       "  -0.18249512,\n",
       "  0.33618164,\n",
       "  0.13879395,\n",
       "  -1.0380859,\n",
       "  -0.7734375,\n",
       "  -1.1337891,\n",
       "  -0.08898926,\n",
       "  -0.35620117,\n",
       "  -0.99560547,\n",
       "  0.6777344,\n",
       "  1.8769531,\n",
       "  -0.53027344,\n",
       "  1.3349609,\n",
       "  0.44018555,\n",
       "  0.52734375,\n",
       "  -0.015731812,\n",
       "  0.25830078,\n",
       "  1.4619141,\n",
       "  0.16149902,\n",
       "  -0.08648682,\n",
       "  -1.1660156,\n",
       "  0.15454102,\n",
       "  0.43139648,\n",
       "  0.94433594,\n",
       "  -1.4882812,\n",
       "  -0.02545166,\n",
       "  -0.6513672,\n",
       "  -0.2993164,\n",
       "  -1.4716797,\n",
       "  -0.6352539,\n",
       "  -0.5053711,\n",
       "  0.016784668,\n",
       "  -1.6191406,\n",
       "  -1.2646484,\n",
       "  -1.6328125,\n",
       "  0.36621094,\n",
       "  -0.6069336,\n",
       "  0.015205383,\n",
       "  -0.24145508,\n",
       "  0.8520508,\n",
       "  0.94677734,\n",
       "  -0.41625977,\n",
       "  -0.46166992,\n",
       "  -0.78515625,\n",
       "  0.6621094,\n",
       "  -0.9897461,\n",
       "  -0.33740234,\n",
       "  0.34326172,\n",
       "  -0.007980347,\n",
       "  -1.6240234,\n",
       "  0.5341797,\n",
       "  0.28271484,\n",
       "  -0.107299805,\n",
       "  -0.5522461,\n",
       "  0.6323242,\n",
       "  -1.0576172,\n",
       "  -0.53027344,\n",
       "  0.13964844,\n",
       "  -0.11657715,\n",
       "  0.47216797,\n",
       "  -1.2890625,\n",
       "  -1.1435547,\n",
       "  -0.38598633,\n",
       "  0.27783203,\n",
       "  0.6274414,\n",
       "  0.9169922,\n",
       "  -0.16223145,\n",
       "  -1.0117188,\n",
       "  -0.25195312,\n",
       "  -1.3652344,\n",
       "  -0.11621094,\n",
       "  -0.2644043,\n",
       "  -0.16503906,\n",
       "  0.41088867,\n",
       "  -0.15002441,\n",
       "  -0.51708984,\n",
       "  -0.81347656,\n",
       "  1.2451172,\n",
       "  0.3515625,\n",
       "  0.23266602,\n",
       "  0.57421875,\n",
       "  -0.6904297,\n",
       "  -0.5864258,\n",
       "  0.48510742,\n",
       "  -0.39697266,\n",
       "  1.5,\n",
       "  0.53222656,\n",
       "  -0.45898438,\n",
       "  -0.37329102,\n",
       "  0.29785156,\n",
       "  -0.1763916,\n",
       "  -0.3232422,\n",
       "  -0.2722168,\n",
       "  -0.24389648,\n",
       "  0.46923828,\n",
       "  -0.27514648,\n",
       "  -0.1517334,\n",
       "  0.23730469,\n",
       "  0.013511658,\n",
       "  -1.9111328,\n",
       "  -0.43530273,\n",
       "  -0.115722656,\n",
       "  0.037109375,\n",
       "  0.21350098,\n",
       "  -1.2089844,\n",
       "  0.3178711,\n",
       "  0.42578125,\n",
       "  1.1679688,\n",
       "  -0.38549805,\n",
       "  -0.10229492,\n",
       "  -1.4912109,\n",
       "  0.9433594,\n",
       "  -1.3183594,\n",
       "  1.1953125,\n",
       "  1.046875,\n",
       "  0.1505127,\n",
       "  -0.75146484,\n",
       "  -0.85058594,\n",
       "  -0.6411133,\n",
       "  -0.5263672,\n",
       "  -0.47583008,\n",
       "  0.087890625,\n",
       "  0.7451172,\n",
       "  -0.2290039,\n",
       "  0.9316406,\n",
       "  -0.6254883,\n",
       "  0.80078125,\n",
       "  -1.2617188,\n",
       "  1.6669922,\n",
       "  -0.31958008,\n",
       "  -0.44628906,\n",
       "  -1.0576172,\n",
       "  -0.38671875,\n",
       "  0.6040039,\n",
       "  -0.1920166,\n",
       "  0.42797852,\n",
       "  0.49047852,\n",
       "  0.9013672,\n",
       "  0.375,\n",
       "  0.5415039,\n",
       "  -0.04006958,\n",
       "  1.3916016,\n",
       "  0.010887146,\n",
       "  -0.46704102,\n",
       "  1.2900391,\n",
       "  0.0038967133,\n",
       "  -0.7558594,\n",
       "  0.29467773,\n",
       "  0.09008789,\n",
       "  0.4116211,\n",
       "  0.7475586,\n",
       "  0.024032593,\n",
       "  0.4885254,\n",
       "  0.8364258,\n",
       "  -0.578125,\n",
       "  -0.0904541,\n",
       "  0.77783203,\n",
       "  2.2128906,\n",
       "  1.2304688,\n",
       "  -1.1992188,\n",
       "  -0.5019531,\n",
       "  0.7998047,\n",
       "  -0.22229004,\n",
       "  -3.6113281,\n",
       "  1.0566406,\n",
       "  -0.90966797,\n",
       "  0.92285156,\n",
       "  -1.03125,\n",
       "  -0.31835938,\n",
       "  -0.5185547,\n",
       "  -0.008171082,\n",
       "  0.8227539,\n",
       "  -0.37060547,\n",
       "  -1.2939453,\n",
       "  -0.5253906,\n",
       "  0.67041016,\n",
       "  -1.2382812,\n",
       "  1.2998047,\n",
       "  1.0078125,\n",
       "  -0.69921875,\n",
       "  0.6665039,\n",
       "  -0.11138916,\n",
       "  2.4355469,\n",
       "  -0.2010498,\n",
       "  -0.67626953,\n",
       "  0.072631836,\n",
       "  -0.42626953,\n",
       "  0.3642578,\n",
       "  0.09411621,\n",
       "  0.2866211,\n",
       "  -0.6152344,\n",
       "  -0.101623535,\n",
       "  -0.51708984,\n",
       "  0.5703125,\n",
       "  0.66748047,\n",
       "  0.33129883,\n",
       "  -0.16723633,\n",
       "  0.09844971,\n",
       "  0.49536133,\n",
       "  -0.064819336,\n",
       "  -1.2763672,\n",
       "  -0.83984375,\n",
       "  0.0982666,\n",
       "  -0.16992188,\n",
       "  0.47631836,\n",
       "  1.2871094,\n",
       "  -0.29711914,\n",
       "  -0.4206543,\n",
       "  2.0136719,\n",
       "  0.5839844,\n",
       "  0.11627197,\n",
       "  -1.6464844,\n",
       "  -0.69189453,\n",
       "  -0.22583008,\n",
       "  0.3959961,\n",
       "  0.020050049,\n",
       "  0.54296875,\n",
       "  0.82470703,\n",
       "  -0.43530273,\n",
       "  -0.23168945,\n",
       "  -1.0117188,\n",
       "  -0.45654297,\n",
       "  0.82958984,\n",
       "  0.4868164,\n",
       "  -0.26635742,\n",
       "  -0.84277344,\n",
       "  -1.3349609,\n",
       "  -0.6357422,\n",
       "  0.061676025,\n",
       "  -0.3786621,\n",
       "  0.5864258,\n",
       "  -1.4277344,\n",
       "  -0.54589844,\n",
       "  -0.31445312,\n",
       "  -1.4716797,\n",
       "  0.008842468,\n",
       "  -0.7963867,\n",
       "  -1.0205078,\n",
       "  -0.5761719,\n",
       "  0.9458008,\n",
       "  -0.0036468506,\n",
       "  -1.3427734,\n",
       "  0.0010881424,\n",
       "  -0.3474121,\n",
       "  -0.50097656,\n",
       "  -0.9223633,\n",
       "  -0.7939453,\n",
       "  0.5957031,\n",
       "  0.3388672,\n",
       "  -0.14587402,\n",
       "  0.18334961,\n",
       "  -0.95654297,\n",
       "  0.0050621033,\n",
       "  -0.27539062,\n",
       "  -1.2226562,\n",
       "  -0.6982422,\n",
       "  0.5024414,\n",
       "  -0.048736572,\n",
       "  1.0957031,\n",
       "  -0.47558594,\n",
       "  -1.0,\n",
       "  -0.36645508,\n",
       "  -0.48828125,\n",
       "  0.13842773,\n",
       "  -0.53125,\n",
       "  0.03579712,\n",
       "  0.8466797,\n",
       "  -0.9482422,\n",
       "  0.66796875,\n",
       "  0.94433594,\n",
       "  1.0761719,\n",
       "  0.13085938,\n",
       "  -1.0419922,\n",
       "  1.0527344,\n",
       "  0.2331543,\n",
       "  -0.45898438,\n",
       "  0.12347412,\n",
       "  -2.6035156,\n",
       "  -0.05923462,\n",
       "  0.9589844,\n",
       "  0.5395508,\n",
       "  -0.75878906,\n",
       "  -1.1855469,\n",
       "  0.515625,\n",
       "  -0.17797852,\n",
       "  -0.25732422,\n",
       "  -1.5332031,\n",
       "  -0.57470703,\n",
       "  0.9736328,\n",
       "  1.5966797,\n",
       "  0.9555664,\n",
       "  0.15783691,\n",
       "  0.29882812,\n",
       "  0.89453125,\n",
       "  0.61035156,\n",
       "  2.0136719,\n",
       "  0.84033203,\n",
       "  1.1572266,\n",
       "  -0.87060547,\n",
       "  0.4741211,\n",
       "  0.4260254,\n",
       "  -0.28979492,\n",
       "  -0.112976074,\n",
       "  -0.12487793,\n",
       "  0.004211426,\n",
       "  0.52441406,\n",
       "  -1.1621094,\n",
       "  0.36914062,\n",
       "  0.104003906,\n",
       "  1.0976562,\n",
       "  -0.02154541,\n",
       "  0.6748047,\n",
       "  -0.6323242,\n",
       "  -0.23852539,\n",
       "  0.4880371,\n",
       "  0.5810547,\n",
       "  1.2626953,\n",
       "  0.2397461,\n",
       "  0.45507812,\n",
       "  0.76123047,\n",
       "  -0.8925781,\n",
       "  -0.3647461,\n",
       "  0.5786133,\n",
       "  0.7236328,\n",
       "  -1.0527344,\n",
       "  -0.31054688,\n",
       "  -1.3632812,\n",
       "  0.17285156,\n",
       "  0.88183594,\n",
       "  -0.66552734,\n",
       "  -0.22180176,\n",
       "  -0.4790039,\n",
       "  0.25,\n",
       "  -0.13671875,\n",
       "  1.1923828,\n",
       "  -0.15332031,\n",
       "  0.030548096,\n",
       "  1.0390625,\n",
       "  0.31640625,\n",
       "  0.84277344,\n",
       "  -1.046875,\n",
       "  1.8769531,\n",
       "  -0.040802002,\n",
       "  0.6245117,\n",
       "  0.13220215,\n",
       "  2.4960938,\n",
       "  0.4177246,\n",
       "  0.38989258,\n",
       "  0.19970703,\n",
       "  2.1054688,\n",
       "  1.3417969,\n",
       "  -0.105651855,\n",
       "  -0.5600586,\n",
       "  -0.5292969,\n",
       "  0.59472656,\n",
       "  -0.78759766,\n",
       "  0.09863281,\n",
       "  1.2314453,\n",
       "  1.2607422,\n",
       "  -0.765625,\n",
       "  0.29541016,\n",
       "  -0.25146484,\n",
       "  0.90283203,\n",
       "  -1.7265625,\n",
       "  -0.9794922,\n",
       "  1.03125,\n",
       "  -0.32910156,\n",
       "  -0.03289795,\n",
       "  0.88427734,\n",
       "  -0.050048828,\n",
       "  -1.4980469,\n",
       "  -0.03050232,\n",
       "  0.09436035,\n",
       "  -1.4609375,\n",
       "  -0.47680664,\n",
       "  -1.1865234,\n",
       "  0.12780762,\n",
       "  -0.52685547,\n",
       "  1.4765625,\n",
       "  0.5620117,\n",
       "  -0.36865234,\n",
       "  -0.84033203,\n",
       "  0.9560547,\n",
       "  ...]}"
      ]
     },
     "execution_count": 50,
     "metadata": {},
     "output_type": "execute_result"
    }
   ],
   "source": [
    "chunked_html[100]"
   ]
  },
  {
   "cell_type": "markdown",
   "metadata": {},
   "source": [
    "# Vector DB\n",
    "- Docker 로 벡터 DB Milvus 설치, 실행한 뒤 변환한 벡터 저장"
   ]
  },
  {
   "cell_type": "markdown",
   "metadata": {},
   "source": [
    "### Collections & ID 생성"
   ]
  },
  {
   "cell_type": "code",
   "execution_count": 51,
   "metadata": {},
   "outputs": [],
   "source": [
    "from pymilvus import connections, FieldSchema, CollectionSchema, DataType, Collection, utility"
   ]
  },
  {
   "cell_type": "code",
   "execution_count": 52,
   "metadata": {},
   "outputs": [
    {
     "name": "stdout",
     "output_type": "stream",
     "text": [
      "{'address': 'localhost:19530', 'user': ''}\n"
     ]
    }
   ],
   "source": [
    "# Milvus 서버에 연결 (호스트는 localhost, 포트는 19530)\n",
    "connections.connect(\"default\", host=\"localhost\", port=\"19530\")\n",
    "# 연결 성공 여부 확인\n",
    "print(connections.get_connection_addr(\"default\"))"
   ]
  },
  {
   "cell_type": "code",
   "execution_count": 53,
   "metadata": {},
   "outputs": [
    {
     "name": "stdout",
     "output_type": "stream",
     "text": [
      "컬렉션 'potenday'이 삭제되었습니다.\n"
     ]
    }
   ],
   "source": [
    "# 기존 컬렉션 드롭\n",
    "\n",
    "# Milvus 서버 연결\n",
    "connections.connect(\"default\", host=\"localhost\", port=\"19530\")\n",
    "\n",
    "# 드롭할 컬렉션 이름\n",
    "collection_name = \"potenday\"\n",
    "\n",
    "# 컬렉션을 가져옴\n",
    "collection = Collection(name=collection_name)\n",
    "\n",
    "# 컬렉션 드롭 (모든 데이터 삭제)\n",
    "collection.drop()\n",
    "\n",
    "print(f\"컬렉션 '{collection_name}'이 삭제되었습니다.\")"
   ]
  },
  {
   "cell_type": "code",
   "execution_count": 54,
   "metadata": {},
   "outputs": [
    {
     "name": "stdout",
     "output_type": "stream",
     "text": [
      "데이터 Insertion이 완료된 ID: [452338135758013232]\n",
      "데이터 Insertion이 완료된 ID: [452338135758013234]\n",
      "데이터 Insertion이 완료된 ID: [452338135758013236]\n",
      "데이터 Insertion이 완료된 ID: [452338135758013238]\n",
      "데이터 Insertion이 완료된 ID: [452338135758013240]\n",
      "데이터 Insertion이 완료된 ID: [452338135758013242]\n",
      "데이터 Insertion이 완료된 ID: [452338135758013244]\n",
      "데이터 Insertion이 완료된 ID: [452338135758013246]\n",
      "데이터 Insertion이 완료된 ID: [452338135758013248]\n",
      "데이터 Insertion이 완료된 ID: [452338135758013250]\n",
      "데이터 Insertion이 완료된 ID: [452338135758013252]\n",
      "데이터 Insertion이 완료된 ID: [452338135758013254]\n",
      "데이터 Insertion이 완료된 ID: [452338135758013256]\n",
      "데이터 Insertion이 완료된 ID: [452338135758013258]\n",
      "데이터 Insertion이 완료된 ID: [452338135758013260]\n",
      "데이터 Insertion이 완료된 ID: [452338135758013262]\n",
      "데이터 Insertion이 완료된 ID: [452338135758013264]\n",
      "데이터 Insertion이 완료된 ID: [452338135758013266]\n",
      "데이터 Insertion이 완료된 ID: [452338135758013268]\n",
      "데이터 Insertion이 완료된 ID: [452338135758013270]\n",
      "데이터 Insertion이 완료된 ID: [452338135758013272]\n",
      "데이터 Insertion이 완료된 ID: [452338135758013274]\n",
      "데이터 Insertion이 완료된 ID: [452338135758013276]\n",
      "데이터 Insertion이 완료된 ID: [452338135758013278]\n",
      "데이터 Insertion이 완료된 ID: [452338135758013280]\n",
      "데이터 Insertion이 완료된 ID: [452338135758013282]\n",
      "데이터 Insertion이 완료된 ID: [452338135758013284]\n",
      "데이터 Insertion이 완료된 ID: [452338135758013286]\n",
      "데이터 Insertion이 완료된 ID: [452338135758013288]\n",
      "데이터 Insertion이 완료된 ID: [452338135758013290]\n",
      "데이터 Insertion이 완료된 ID: [452338135758013292]\n",
      "데이터 Insertion이 완료된 ID: [452338135758013294]\n",
      "데이터 Insertion이 완료된 ID: [452338135758013296]\n",
      "데이터 Insertion이 완료된 ID: [452338135758013298]\n",
      "데이터 Insertion이 완료된 ID: [452338135758013300]\n",
      "데이터 Insertion이 완료된 ID: [452338135758013302]\n",
      "데이터 Insertion이 완료된 ID: [452338135758013304]\n",
      "데이터 Insertion이 완료된 ID: [452338135758013306]\n",
      "데이터 Insertion이 완료된 ID: [452338135758013308]\n",
      "데이터 Insertion이 완료된 ID: [452338135758013310]\n",
      "데이터 Insertion이 완료된 ID: [452338135758013312]\n",
      "데이터 Insertion이 완료된 ID: [452338135758013314]\n",
      "데이터 Insertion이 완료된 ID: [452338135758013316]\n",
      "데이터 Insertion이 완료된 ID: [452338135758013318]\n",
      "데이터 Insertion이 완료된 ID: [452338135758013320]\n",
      "데이터 Insertion이 완료된 ID: [452338135758013322]\n",
      "데이터 Insertion이 완료된 ID: [452338135758013324]\n",
      "데이터 Insertion이 완료된 ID: [452338135758013326]\n",
      "데이터 Insertion이 완료된 ID: [452338135758013328]\n",
      "데이터 Insertion이 완료된 ID: [452338135758013330]\n",
      "데이터 Insertion이 완료된 ID: [452338135758013332]\n",
      "데이터 Insertion이 완료된 ID: [452338135758013334]\n",
      "데이터 Insertion이 완료된 ID: [452338135758013336]\n",
      "데이터 Insertion이 완료된 ID: [452338135758013338]\n",
      "데이터 Insertion이 완료된 ID: [452338135758013340]\n",
      "데이터 Insertion이 완료된 ID: [452338135758013342]\n",
      "데이터 Insertion이 완료된 ID: [452338135758013344]\n",
      "데이터 Insertion이 완료된 ID: [452338135758013346]\n",
      "데이터 Insertion이 완료된 ID: [452338135758013348]\n",
      "데이터 Insertion이 완료된 ID: [452338135758013350]\n",
      "데이터 Insertion이 완료된 ID: [452338135758013352]\n",
      "데이터 Insertion이 완료된 ID: [452338135758013354]\n",
      "데이터 Insertion이 완료된 ID: [452338135758013356]\n",
      "데이터 Insertion이 완료된 ID: [452338135758013358]\n",
      "데이터 Insertion이 완료된 ID: [452338135758013360]\n",
      "데이터 Insertion이 완료된 ID: [452338135758013362]\n",
      "데이터 Insertion이 완료된 ID: [452338135758013364]\n",
      "데이터 Insertion이 완료된 ID: [452338135758013366]\n",
      "데이터 Insertion이 완료된 ID: [452338135758013368]\n",
      "데이터 Insertion이 완료된 ID: [452338135758013370]\n",
      "데이터 Insertion이 완료된 ID: [452338135758013372]\n",
      "데이터 Insertion이 완료된 ID: [452338135758013374]\n",
      "데이터 Insertion이 완료된 ID: [452338135758013376]\n",
      "데이터 Insertion이 완료된 ID: [452338135758013378]\n",
      "데이터 Insertion이 완료된 ID: [452338135758013380]\n",
      "데이터 Insertion이 완료된 ID: [452338135758013382]\n",
      "데이터 Insertion이 완료된 ID: [452338135758013384]\n",
      "데이터 Insertion이 완료된 ID: [452338135758013386]\n",
      "데이터 Insertion이 완료된 ID: [452338135758013388]\n",
      "데이터 Insertion이 완료된 ID: [452338135758013390]\n",
      "데이터 Insertion이 완료된 ID: [452338135758013392]\n",
      "데이터 Insertion이 완료된 ID: [452338135758013394]\n",
      "데이터 Insertion이 완료된 ID: [452338135758013396]\n",
      "데이터 Insertion이 완료된 ID: [452338135758013398]\n",
      "데이터 Insertion이 완료된 ID: [452338135758013400]\n",
      "데이터 Insertion이 완료된 ID: [452338135758013402]\n",
      "데이터 Insertion이 완료된 ID: [452338135758013404]\n",
      "데이터 Insertion이 완료된 ID: [452338135758013406]\n",
      "데이터 Insertion이 완료된 ID: [452338135758013408]\n",
      "데이터 Insertion이 완료된 ID: [452338135758013410]\n",
      "데이터 Insertion이 완료된 ID: [452338135758013412]\n",
      "데이터 Insertion이 완료된 ID: [452338135758013414]\n",
      "데이터 Insertion이 완료된 ID: [452338135758013416]\n",
      "데이터 Insertion이 완료된 ID: [452338135758013418]\n",
      "데이터 Insertion이 완료된 ID: [452338135758013420]\n",
      "데이터 Insertion이 완료된 ID: [452338135758013422]\n",
      "데이터 Insertion이 완료된 ID: [452338135758013424]\n",
      "데이터 Insertion이 완료된 ID: [452338135758013426]\n",
      "데이터 Insertion이 완료된 ID: [452338135758013428]\n",
      "데이터 Insertion이 완료된 ID: [452338135758013430]\n",
      "데이터 Insertion이 완료된 ID: [452338135758013432]\n",
      "데이터 Insertion이 완료된 ID: [452338135758013434]\n",
      "데이터 Insertion이 완료된 ID: [452338135758013436]\n",
      "데이터 Insertion이 완료된 ID: [452338135758013438]\n",
      "데이터 Insertion이 완료된 ID: [452338135758013440]\n",
      "데이터 Insertion이 완료된 ID: [452338135758013442]\n",
      "데이터 Insertion이 완료된 ID: [452338135758013444]\n",
      "데이터 Insertion이 완료된 ID: [452338135758013446]\n",
      "데이터 Insertion이 완료된 ID: [452338135758013448]\n",
      "데이터 Insertion이 완료된 ID: [452338135758013450]\n",
      "데이터 Insertion이 완료된 ID: [452338135758013452]\n",
      "데이터 Insertion이 완료된 ID: [452338135758013454]\n",
      "데이터 Insertion이 완료된 ID: [452338135758013456]\n",
      "데이터 Insertion이 완료된 ID: [452338135758013458]\n",
      "데이터 Insertion이 완료된 ID: [452338135758013460]\n",
      "데이터 Insertion이 완료된 ID: [452338135758013462]\n",
      "데이터 Insertion이 완료된 ID: [452338135758013464]\n",
      "데이터 Insertion이 완료된 ID: [452338135758013466]\n",
      "데이터 Insertion이 완료된 ID: [452338135758013468]\n",
      "데이터 Insertion이 완료된 ID: [452338135758013470]\n",
      "데이터 Insertion이 완료된 ID: [452338135758013472]\n",
      "데이터 Insertion이 완료된 ID: [452338135758013474]\n",
      "데이터 Insertion이 완료된 ID: [452338135758013476]\n",
      "데이터 Insertion이 완료된 ID: [452338135758013478]\n",
      "데이터 Insertion이 완료된 ID: [452338135758013480]\n",
      "데이터 Insertion이 완료된 ID: [452338135758013482]\n",
      "데이터 Insertion이 완료된 ID: [452338135758013484]\n",
      "데이터 Insertion이 완료된 ID: [452338135758013486]\n",
      "데이터 Insertion이 완료된 ID: [452338135758013488]\n",
      "데이터 Insertion이 완료된 ID: [452338135758013490]\n",
      "데이터 Insertion이 완료된 ID: [452338135758013492]\n",
      "데이터 Insertion이 완료된 ID: [452338135758013494]\n",
      "데이터 Insertion이 완료된 ID: [452338135758013496]\n",
      "데이터 Insertion이 완료된 ID: [452338135758013498]\n",
      "데이터 Insertion이 완료된 ID: [452338135758013500]\n",
      "데이터 Insertion이 완료된 ID: [452338135758013502]\n",
      "데이터 Insertion이 완료된 ID: [452338135758013504]\n",
      "데이터 Insertion이 완료된 ID: [452338135758013506]\n",
      "데이터 Insertion이 완료된 ID: [452338135758013508]\n",
      "데이터 Insertion이 완료된 ID: [452338135758013510]\n",
      "데이터 Insertion이 완료된 ID: [452338135758013512]\n",
      "데이터 Insertion이 완료된 ID: [452338135758013514]\n",
      "데이터 Insertion이 완료된 ID: [452338135758013516]\n",
      "데이터 Insertion이 완료된 ID: [452338135758013518]\n",
      "데이터 Insertion이 완료된 ID: [452338135758013520]\n",
      "데이터 Insertion이 완료된 ID: [452338135758013522]\n",
      "데이터 Insertion이 완료된 ID: [452338135758013524]\n",
      "데이터 Insertion이 완료된 ID: [452338135758013526]\n",
      "데이터 Insertion이 완료된 ID: [452338135758013528]\n",
      "데이터 Insertion이 완료된 ID: [452338135758013530]\n",
      "데이터 Insertion이 완료된 ID: [452338135758013532]\n",
      "데이터 Insertion이 완료된 ID: [452338135758013534]\n",
      "데이터 Insertion이 완료된 ID: [452338135758013536]\n",
      "데이터 Insertion이 완료된 ID: [452338135758013538]\n",
      "데이터 Insertion이 완료된 ID: [452338135758013540]\n",
      "데이터 Insertion이 완료된 ID: [452338135758013542]\n",
      "데이터 Insertion이 완료된 ID: [452338135758013544]\n",
      "데이터 Insertion이 완료된 ID: [452338135758013546]\n",
      "데이터 Insertion이 완료된 ID: [452338135758013548]\n",
      "데이터 Insertion이 완료된 ID: [452338135758013550]\n",
      "데이터 Insertion이 완료된 ID: [452338135758013552]\n",
      "데이터 Insertion이 완료된 ID: [452338135758013554]\n",
      "데이터 Insertion이 완료된 ID: [452338135758013556]\n",
      "데이터 Insertion이 완료된 ID: [452338135758013558]\n",
      "데이터 Insertion이 완료된 ID: [452338135758013560]\n",
      "데이터 Insertion이 완료된 ID: [452338135758013562]\n",
      "데이터 Insertion이 완료된 ID: [452338135758013564]\n",
      "데이터 Insertion이 완료된 ID: [452338135758013566]\n",
      "데이터 Insertion이 완료된 ID: [452338135758013568]\n",
      "데이터 Insertion이 완료된 ID: [452338135758013570]\n",
      "데이터 Insertion이 완료된 ID: [452338135758013572]\n",
      "데이터 Insertion이 완료된 ID: [452338135758013574]\n",
      "데이터 Insertion이 완료된 ID: [452338135758013576]\n",
      "데이터 Insertion이 완료된 ID: [452338135758013578]\n",
      "데이터 Insertion이 완료된 ID: [452338135758013580]\n",
      "데이터 Insertion이 완료된 ID: [452338135758013582]\n",
      "데이터 Insertion이 완료된 ID: [452338135758013584]\n",
      "데이터 Insertion이 완료된 ID: [452338135758013586]\n",
      "데이터 Insertion이 완료된 ID: [452338135758013588]\n",
      "데이터 Insertion이 완료된 ID: [452338135758013590]\n",
      "데이터 Insertion이 완료된 ID: [452338135758013592]\n",
      "데이터 Insertion이 완료된 ID: [452338135758013594]\n",
      "데이터 Insertion이 완료된 ID: [452338135758013596]\n",
      "데이터 Insertion이 완료된 ID: [452338135758013598]\n",
      "데이터 Insertion이 완료된 ID: [452338135758013600]\n",
      "데이터 Insertion이 완료된 ID: [452338135758013602]\n",
      "데이터 Insertion이 완료된 ID: [452338135758013604]\n",
      "데이터 Insertion이 완료된 ID: [452338135758013606]\n",
      "데이터 Insertion이 완료된 ID: [452338135758013608]\n",
      "데이터 Insertion이 완료된 ID: [452338135758013610]\n",
      "데이터 Insertion이 완료된 ID: [452338135758013612]\n",
      "데이터 Insertion이 완료된 ID: [452338135758013614]\n",
      "데이터 Insertion이 완료된 ID: [452338135758013616]\n",
      "데이터 Insertion이 완료된 ID: [452338135758013618]\n",
      "데이터 Insertion이 완료된 ID: [452338135758013620]\n",
      "데이터 Insertion이 완료된 ID: [452338135758013622]\n",
      "데이터 Insertion이 완료된 ID: [452338135758013624]\n",
      "데이터 Insertion이 완료된 ID: [452338135758013626]\n",
      "데이터 Insertion이 완료된 ID: [452338135758013628]\n",
      "데이터 Insertion이 완료된 ID: [452338135758013630]\n",
      "데이터 Insertion이 완료된 ID: [452338135758013632]\n",
      "데이터 Insertion이 완료된 ID: [452338135758013634]\n",
      "데이터 Insertion이 완료된 ID: [452338135758013636]\n",
      "데이터 Insertion이 완료된 ID: [452338135758013638]\n",
      "데이터 Insertion이 완료된 ID: [452338135758013640]\n",
      "데이터 Insertion이 완료된 ID: [452338135758013642]\n",
      "데이터 Insertion이 완료된 ID: [452338135758013644]\n",
      "데이터 Insertion이 완료된 ID: [452338135758013646]\n",
      "데이터 Insertion이 완료된 ID: [452338135758013648]\n",
      "데이터 Insertion이 완료된 ID: [452338135758013650]\n",
      "데이터 Insertion이 완료된 ID: [452338135758013652]\n",
      "데이터 Insertion이 완료된 ID: [452338135758013654]\n",
      "데이터 Insertion이 전부 완료되었습니다\n"
     ]
    }
   ],
   "source": [
    "connections.connect(\"default\", host=\"localhost\", port=\"19530\")\n",
    "  \n",
    "fields = [\n",
    "    FieldSchema(name=\"id\", dtype=DataType.INT64, is_primary=True, auto_id=True),\n",
    "    FieldSchema(name=\"source\", dtype=DataType.VARCHAR, max_length=3000),\n",
    "    FieldSchema(name=\"text\", dtype=DataType.VARCHAR, max_length=9000),\n",
    "    FieldSchema(name=\"embedding\", dtype=DataType.FLOAT_VECTOR, dim=1024)\n",
    "]\n",
    "\n",
    "schema = CollectionSchema(fields, description=\"포텐데이 FAQ 테스트\")\n",
    "\n",
    "collection_name = \"potenday\"\n",
    "collection = Collection(name=collection_name, schema=schema, using='default', shards_num=2)\n",
    "\n",
    "for item in chunked_html:\n",
    "    source_list = [item['source']]\n",
    "    text_list = [item['text']]\n",
    "    embedding_list = [item['embedding']]\n",
    "    \n",
    "    entities = [\n",
    "        source_list,\n",
    "        text_list,\n",
    "        embedding_list\n",
    "    ]\n",
    "    \n",
    "    insert_result = collection.insert(entities)\n",
    "    print(\"데이터 Insertion이 완료된 ID:\", insert_result.primary_keys)\n",
    "\n",
    "print(\"데이터 Insertion이 전부 완료되었습니다\")"
   ]
  },
  {
   "cell_type": "markdown",
   "metadata": {},
   "source": [
    "### Indexing"
   ]
  },
  {
   "cell_type": "code",
   "execution_count": 55,
   "metadata": {},
   "outputs": [
    {
     "name": "stdout",
     "output_type": "stream",
     "text": [
      "[{'metric_type': 'IP', 'index_type': 'HNSW', 'params': {'M': 8, 'efConstruction': 200}}]\n"
     ]
    }
   ],
   "source": [
    "index_params = {\n",
    "    \"metric_type\": \"IP\",\n",
    "    \"index_type\": \"HNSW\",\n",
    "    \"params\": {\n",
    "        \"M\": 8,\n",
    "        \"efConstruction\": 200\n",
    "    }\n",
    "}\n",
    " \n",
    "collection = Collection(\"potenday\")\n",
    "collection.create_index(field_name=\"embedding\", index_params=index_params)\n",
    "utility.index_building_progress(\"potenday\")\n",
    " \n",
    "print([index.params for index in collection.indexes])"
   ]
  },
  {
   "cell_type": "markdown",
   "metadata": {},
   "source": [
    "### 재실행 시 Milvus 로딩"
   ]
  },
  {
   "cell_type": "code",
   "execution_count": 65,
   "metadata": {},
   "outputs": [
    {
     "data": {
      "text/plain": [
       "<LoadState: NotLoad>"
      ]
     },
     "execution_count": 65,
     "metadata": {},
     "output_type": "execute_result"
    }
   ],
   "source": [
    "# 재실행 시 로딩\n",
    "connections.connect(\"default\", host=\"localhost\", port=\"19530\")\n",
    "\n",
    "# 불러올 collection 이름을 넣는 곳\n",
    "collection = Collection(\"potenday\")\n",
    "collection.create_index(field_name=\"embedding\", index_params=index_params)\n",
    "utility.index_building_progress(\"potenday\")\n",
    " \n",
    "print([index.params for index in collection.indexes])"
   ]
  },
  {
   "cell_type": "markdown",
   "metadata": {},
   "source": [
    "# Retrieval -> HyperCLOVA X"
   ]
  },
  {
   "cell_type": "code",
   "execution_count": 58,
   "metadata": {},
   "outputs": [],
   "source": [
    "# -*- coding: utf-8 -*-\n",
    "\n",
    "import requests\n",
    "\n",
    "\n",
    "class CompletionExecutor:\n",
    "    def __init__(self, host, api_key, api_key_primary_val, request_id):\n",
    "        self._host = host\n",
    "        self._api_key = api_key\n",
    "        self._api_key_primary_val = api_key_primary_val\n",
    "        self._request_id = request_id\n",
    "\n",
    "    def execute(self, completion_request, response_type=\"stream\"):\n",
    "        headers = {\n",
    "            'X-NCP-CLOVASTUDIO-API-KEY': self._api_key,\n",
    "            'X-NCP-APIGW-API-KEY': self._api_key_primary_val,\n",
    "            'X-NCP-CLOVASTUDIO-REQUEST-ID': self._request_id,\n",
    "            'Content-Type': 'application/json; charset=utf-8',\n",
    "            'Accept': 'text/event-stream'\n",
    "        }\n",
    "\n",
    "        final_answer = \"\"\n",
    "\n",
    "        with requests.post(\n",
    "            self._host + '/testapp/v1/chat-completions/HCX-DASH-001',\n",
    "            headers=headers, \n",
    "            json=completion_request, \n",
    "            stream=True\n",
    "        ) as r:\n",
    "            if response_type == \"stream\":\n",
    "                longest_line = \"\"\n",
    "                for line in r.iter_lines():\n",
    "                    if line:\n",
    "                        decoded_line = line.decode(\"utf-8\")\n",
    "                        if decoded_line.startswith(\"data:\"):\n",
    "                            event_data = json.loads(decoded_line[len(\"data:\"):])\n",
    "                            message_content = event_data.get(\"message\", {}).get(\"content\", \"\")\n",
    "                            if len(message_content) > len(longest_line):\n",
    "                                longest_line = message_content\n",
    "                final_answer = longest_line\n",
    "            elif response_type == \"single\":\n",
    "                final_answer = r.json()  # 가정: 단일 응답이 JSON 형태로 반환됨\n",
    "        \n",
    "        return final_answer"
   ]
  },
  {
   "cell_type": "code",
   "execution_count": 56,
   "metadata": {},
   "outputs": [],
   "source": [
    "# 사용자의 쿼리를 임베딩하는 함수를 먼저 정의\n",
    "def query_embed(text: str):\n",
    "    request_data = {\"text\": text}\n",
    "    response_data = embedding_executor.execute(request_data)\n",
    "    return response_data"
   ]
  },
  {
   "cell_type": "code",
   "execution_count": 65,
   "metadata": {},
   "outputs": [],
   "source": [
    "def html_chat(realquery: str) -> str:\n",
    "\n",
    "    query_vector = query_embed(realquery)\n",
    " \n",
    "    collection.load()\n",
    " \n",
    "    search_params = {\"metric_type\": \"IP\", \"params\": {\"ef\": 64}}\n",
    "    results = collection.search(\n",
    "        data=[query_vector],  # 검색할 벡터 데이터\n",
    "        anns_field=\"embedding\",  # 검색을 수행할 벡터 필드 지정\n",
    "        param=search_params,\n",
    "        limit=10,\n",
    "        output_fields=[\"source\", \"text\"]\n",
    "    )\n",
    " \n",
    "    reference = []\n",
    " \n",
    "    for hit in results[0]:\n",
    "        distance = hit.distance\n",
    "        source = hit.entity.get(\"source\")\n",
    "        text = hit.entity.get(\"text\")\n",
    "        reference.append({\"distance\": distance, \"source\": source, \"text\": text})\n",
    " \n",
    "    completion_executor = CompletionExecutor(\n",
    "        host='https://clovastudio.stream.ntruss.com',\n",
    "        api_key='NTA0MjU2MWZlZTcxNDJiY4qFDZAWlqFMzImmP0HcHEB5yfXVQ1u0DGKUuK5/Mz8w',\n",
    "        api_key_primary_val='OnBeBKQrOFqEElE96ackKhkzUfwOMkNbqV7bZU04',\n",
    "        request_id='01ed5897-a7af-49b2-81d5-05b86b73254d'\n",
    "    )\n",
    "\n",
    "    preset_texts = [\n",
    "        {\"role\":\"system\",\"content\":\"- 너의 역할은 사용자의 질문에 reference를 바탕으로 답변하는거야.\\n- 상냥하고 친절하고 귀여운 어투로 대답해줘.\\n- 너가 가지고 있는 지식은 모두 배제하고, 주어진 reference의 내용만을 바탕으로 답변해야해.\\n- 답변의 출처가 되는 'source'도 답변과 함께 {출처:}의 형태로 제공해야해.\\n- 만약 사용자의 질문이 reference와 관련이 없다면, {오잉님, 도와주세요.}라고만 반드시 말해야해.\\n- 네가 가진 지식은 반드시 다 배제하고 주어진 reference에 있는 내용만을 바탕으로 대답해.\"},\n",
    "    ]\n",
    " \n",
    "    for ref in reference:\n",
    "        preset_texts.append(\n",
    "            {\n",
    "                \"role\": \"system\",\n",
    "                \"content\": f\"reference: {ref['text']}, url: {ref['source']}\"\n",
    "            }\n",
    "        )\n",
    " \n",
    "    preset_texts.append({\"role\": \"user\", \"content\": realquery})\n",
    " \n",
    "    request_data = {\n",
    "        \"messages\": preset_texts,\n",
    "        \"topP\": 0.6,\n",
    "        \"topK\": 0,\n",
    "        \"maxTokens\": 1024,\n",
    "        \"temperature\": 0.5,\n",
    "        \"repeatPenalty\": 1.2,\n",
    "        \"stopBefore\": [],\n",
    "        \"includeAiFilters\": False\n",
    "    }\n",
    " \n",
    "    # LLM 생성 답변 반환\n",
    "    response_data = completion_executor.execute(request_data)\n",
    " \n",
    "    return response_data"
   ]
  },
  {
   "cell_type": "code",
   "execution_count": 61,
   "metadata": {},
   "outputs": [
    {
     "data": {
      "text/plain": [
       "'중간 산출물은 DAY 5에 제출합니다.  \\n\\n포텐데이 슬랙 > 포텐데이 채널에 직접 소개 포텐데이 체크인 > /프로젝트 산출물 호출해서 서비스 소개 등록 중간 산출물은 밤 12시 마감 됩니다. Day 5 이후 제출도 가능합니다. (하지만, 패널티 있어요.)\\n\\n자세한 내용은 포텐데이 산출물 가이드를 참고하세요.\\n\\n- 포텐데이 산출물 : /Users/geesuee/jinjihan/bside_jupyter/PROGRAME/POTENDAY/2409_FAQ 응답 챗봇/2_RAG/02_potenday/potendayguide/포텐데이 산출물 f6471747a4a04facbaa30752bc3bbb81.html'"
      ]
     },
     "execution_count": 61,
     "metadata": {},
     "output_type": "execute_result"
    }
   ],
   "source": [
    "html_chat(\"포텐데이 중간 산출물은 언제 내나요?\")"
   ]
  },
  {
   "cell_type": "code",
   "execution_count": 36,
   "metadata": {},
   "outputs": [
    {
     "data": {
      "text/plain": [
       "'팀을 만들었는데 중간에 그만두고 싶다면 포텐데이 체크인 > 사이드카 > 프로젝트 하차 신청을 해 주세요. 운영자 확인 후 하차 프로세스가 진행되니 슬랙 DM(포텐데이 체크인)을 꼼꼼히 확인하세요.\\n\\n- 출처 : 프로젝트 하차 신청은 어떻게 하나요? 기간별 진행중 유형 프로젝트 중단⛔ 프로그램 시작 전후, 프로젝트 하차하고 싶다면 포텐데이 체크인 > 사이드카 > 프로젝트 하차 신청해 주세요. 운영자 확인 후 하차 프로세스가 진행되니 슬랙 DM(포텐데이 체크인)을 꼼꼼히 확인하세요., url : /Users/geesuee/jinjihan/bside_jupyter/PROGRAME/POTENDAY/2409_FAQ 응답 챗봇/2_RAG/02_potenday/potendayguide/프로젝트 하차 신청은 어떻게 하나요 25a821809506497ab81c241b43f4f082.html'"
      ]
     },
     "execution_count": 36,
     "metadata": {},
     "output_type": "execute_result"
    }
   ],
   "source": [
    "html_chat(\"팀을 만들었는데 중간에 그만두고 싶으면 어떻게 하나요?\")"
   ]
  },
  {
   "cell_type": "code",
   "execution_count": 38,
   "metadata": {},
   "outputs": [
    {
     "data": {
      "text/plain": [
       "'네. 팀 빌딩이 안 되면 다크호스로 다른 팀에 합류할 수 있어요.\\n\\n팀이 확정되지 않은 멤버 (=다크호스)와 영입을 희망하는 팀이 만나 최종 팀 빌딩을 합니다. {출처:/Users/geesuee/jinjihan/bside_jupyter/PROGRAME/POTENDAY/2409_FAQ 응답 챗봇/2_RAG/02_potenday/potendayguide/[팀 빌딩] 다크호스 합류 2e437c1d866e4ef2869cd1eec6ae4b7f.html}'"
      ]
     },
     "execution_count": 38,
     "metadata": {},
     "output_type": "execute_result"
    }
   ],
   "source": [
    "html_chat(\"팀빌딩이 안되면 다크호스가 되는건가요? 다크호스가 뭔가요?\")"
   ]
  },
  {
   "cell_type": "code",
   "execution_count": 40,
   "metadata": {},
   "outputs": [
    {
     "data": {
      "text/plain": [
       "'포텐데이 슬랙 아무 채널 메시지 입력창에 /사이드카 명령어 입력 DM 말고 사이드카🚨 발동하세요.\\n- 출처 : /Users/geesuee/jinjihan/bside_jupyter/PROGRAME/POTENDAY/2409_FAQ 응답 챗봇/2_RAG/02_potenday/potendayguide/포텐데이 체크인 71ba85b21a0747d99353e7f3f3e60ca7.html'"
      ]
     },
     "execution_count": 40,
     "metadata": {},
     "output_type": "execute_result"
    }
   ],
   "source": [
    "html_chat(\"사이드카 어떻게 호출하나요?\")"
   ]
  },
  {
   "cell_type": "code",
   "execution_count": 62,
   "metadata": {},
   "outputs": [
    {
     "data": {
      "text/plain": [
       "'포텐데이 슬랙 입장 체크인을 받지 못하셨다면, 잠시 후에 다시 시도해 보세요.  \\n\\n만약 계속해서 체크인을 받지 못하신다면, 슬랙 채널 메뉴 하단의 포텐데이 체크인 DM을 확인해 주세요.'"
      ]
     },
     "execution_count": 62,
     "metadata": {},
     "output_type": "execute_result"
    }
   ],
   "source": [
    "html_chat(\"입장 체크인을 못 받았어요 어떡하죠?\")"
   ]
  },
  {
   "cell_type": "code",
   "execution_count": 66,
   "metadata": {},
   "outputs": [
    {
     "data": {
      "text/plain": [
       "'고양이가 좋아하는 음식에 대해 궁금하시군요. 고양이가 좋아하는 음식은 다양하지만 일반적으로 선호하는 음식은 다음과 같습니다.  \\n\\n- 고양이가 좋아하는 음식 : 생선, 고기, 계란, 우유, 통조림 등입니다.\\n\\n위의 음식들은 고양이의 건강에 도움이 될 수 있지만, 반드시 고양이의 건강 상태와 체질을 고려하여 적절한 양과 종류를 선택해야 합니다.'"
      ]
     },
     "execution_count": 66,
     "metadata": {},
     "output_type": "execute_result"
    }
   ],
   "source": [
    "html_chat(\"고양이가 좋아하는 음식은?\")"
   ]
  }
 ],
 "metadata": {
  "kernelspec": {
   "display_name": "venv",
   "language": "python",
   "name": "python3"
  },
  "language_info": {
   "codemirror_mode": {
    "name": "ipython",
    "version": 3
   },
   "file_extension": ".py",
   "mimetype": "text/x-python",
   "name": "python",
   "nbconvert_exporter": "python",
   "pygments_lexer": "ipython3",
   "version": "3.12.5"
  }
 },
 "nbformat": 4,
 "nbformat_minor": 2
}
